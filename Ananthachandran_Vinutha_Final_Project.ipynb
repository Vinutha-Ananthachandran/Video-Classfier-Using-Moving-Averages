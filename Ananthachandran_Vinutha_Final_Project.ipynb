{
 "cells": [
  {
   "cell_type": "markdown",
   "metadata": {
    "id": "-SLNKG92vM6j"
   },
   "source": [
    "**Ananthachandran_Vinutha_Final_Project**"
   ]
  },
  {
   "cell_type": "markdown",
   "metadata": {
    "id": "dTZ56lPm3hdQ"
   },
   "source": [
    "\n",
    "\n",
    "1.   Name  : Vinutha Ananthachandran\n",
    "2.   Github: Vinutha-Ananthachandran\n",
    "3.   USC ID: 9195882821\n",
    "\n"
   ]
  },
  {
   "cell_type": "code",
   "execution_count": 1,
   "metadata": {
    "colab": {
     "base_uri": "https://localhost:8080/"
    },
    "executionInfo": {
     "elapsed": 27464,
     "status": "ok",
     "timestamp": 1683578935603,
     "user": {
      "displayName": "vinutha a",
      "userId": "16189884592385199117"
     },
     "user_tz": 420
    },
    "id": "fNyIFQBrRsGa",
    "outputId": "f1920ba1-605a-4a86-b855-3a85ecc0f376"
   },
   "outputs": [
    {
     "name": "stdout",
     "output_type": "stream",
     "text": [
      "Mounted at /content/drive\n"
     ]
    }
   ],
   "source": [
    "import shutil\n",
    "import pandas as pd\n",
    "import numpy as np\n",
    "import matplotlib.pyplot as plt\n",
    "import tensorflow as tf\n",
    "from tensorflow import keras\n",
    "import os\n",
    "from google.colab import drive\n",
    "drive.mount('/content/drive')"
   ]
  },
  {
   "cell_type": "code",
   "execution_count": 2,
   "metadata": {
    "executionInfo": {
     "elapsed": 913,
     "status": "ok",
     "timestamp": 1683578942196,
     "user": {
      "displayName": "vinutha a",
      "userId": "16189884592385199117"
     },
     "user_tz": 420
    },
    "id": "LZ5v_L91TdAt"
   },
   "outputs": [],
   "source": [
    "os.chdir(\"drive/MyDrive/Colab Notebooks/ML Project/Data/Sport Images\")"
   ]
  },
  {
   "cell_type": "code",
   "execution_count": 3,
   "metadata": {
    "colab": {
     "base_uri": "https://localhost:8080/",
     "height": 35
    },
    "executionInfo": {
     "elapsed": 534,
     "status": "ok",
     "timestamp": 1683578944353,
     "user": {
      "displayName": "vinutha a",
      "userId": "16189884592385199117"
     },
     "user_tz": 420
    },
    "id": "UgoeVs6ETJWo",
    "outputId": "18360281-311d-4f81-c68b-9fc31288050b"
   },
   "outputs": [
    {
     "data": {
      "application/vnd.google.colaboratory.intrinsic+json": {
       "type": "string"
      },
      "text/plain": [
       "'/content/drive/MyDrive/Colab Notebooks/ML Project/Data/Sport Images'"
      ]
     },
     "execution_count": 3,
     "metadata": {},
     "output_type": "execute_result"
    }
   ],
   "source": [
    "os.getcwd()"
   ]
  },
  {
   "cell_type": "code",
   "execution_count": 4,
   "metadata": {
    "executionInfo": {
     "elapsed": 6482,
     "status": "ok",
     "timestamp": 1683578953222,
     "user": {
      "displayName": "vinutha a",
      "userId": "16189884592385199117"
     },
     "user_tz": 420
    },
    "id": "CYGhwisWc8fY"
   },
   "outputs": [],
   "source": [
    "labels = ['baseball','basketball','fencing','tennis','volleyball']\n",
    "curr_dir = os.getcwd() + '/'\n",
    "fdir = {}\n",
    "for folder,subfolders,files in os.walk(curr_dir):\n",
    "    for sub in subfolders:\n",
    "      if sub in labels:\n",
    "        fpath = curr_dir + sub\n",
    "        files = os.listdir(fpath)\n",
    "        fdir[fpath] = files"
   ]
  },
  {
   "cell_type": "markdown",
   "metadata": {
    "id": "UbhDM6VozWaL"
   },
   "source": [
    "**copying the images into their corresponding train, validation and test folders -- ONE TIME EXECUTION ONLY**"
   ]
  },
  {
   "cell_type": "code",
   "execution_count": 5,
   "metadata": {
    "executionInfo": {
     "elapsed": 239,
     "status": "ok",
     "timestamp": 1683578955797,
     "user": {
      "displayName": "vinutha a",
      "userId": "16189884592385199117"
     },
     "user_tz": 420
    },
    "id": "aApbXsIefakk"
   },
   "outputs": [],
   "source": [
    "from random import shuffle\n",
    "fsnap = []\n",
    "tr_files = []\n",
    "val_files = []\n",
    "tst_files = []\n",
    "for folder,files in fdir.items():\n",
    "  shuffle(files)\n",
    "  tlim = int(len(files)*0.7)\n",
    " # vlim = int(len(files)*0.15)\n",
    "  vlim = int((len(files) - tlim)/2)\n",
    "  train_files = list(map(lambda x: folder+'/'+x,files[:tlim]))\n",
    "  validation_files = list(map(lambda x: folder+'/'+x,files[tlim:tlim+vlim]))\n",
    "  test_files = list(map(lambda x: folder+'/'+x,files[tlim+vlim:]))\n",
    "  fsnap.append([folder,len(files),len(train_files),len(validation_files),len(test_files)])\n",
    "  tr_files.extend(train_files)\n",
    "  val_files.extend(validation_files)\n",
    "  tst_files.extend(test_files)"
   ]
  },
  {
   "cell_type": "code",
   "execution_count": 6,
   "metadata": {
    "executionInfo": {
     "elapsed": 2,
     "status": "ok",
     "timestamp": 1683578958846,
     "user": {
      "displayName": "vinutha a",
      "userId": "16189884592385199117"
     },
     "user_tz": 420
    },
    "id": "Ow-eoaByhTli"
   },
   "outputs": [],
   "source": [
    "fsnap_df = pd.DataFrame(fsnap,columns=['folder','total file count','training file count','validation file count','test file count'])"
   ]
  },
  {
   "cell_type": "code",
   "execution_count": 7,
   "metadata": {
    "colab": {
     "base_uri": "https://localhost:8080/",
     "height": 206
    },
    "executionInfo": {
     "elapsed": 14,
     "status": "ok",
     "timestamp": 1683578961562,
     "user": {
      "displayName": "vinutha a",
      "userId": "16189884592385199117"
     },
     "user_tz": 420
    },
    "id": "Pr3nmrcHfcA5",
    "outputId": "0e84a126-82af-4d48-8281-6de1aaf77f83"
   },
   "outputs": [
    {
     "data": {
      "text/html": [
       "\n",
       "  <div id=\"df-bfe53f79-5ac5-4c37-8178-bbfec7f94761\">\n",
       "    <div class=\"colab-df-container\">\n",
       "      <div>\n",
       "<style scoped>\n",
       "    .dataframe tbody tr th:only-of-type {\n",
       "        vertical-align: middle;\n",
       "    }\n",
       "\n",
       "    .dataframe tbody tr th {\n",
       "        vertical-align: top;\n",
       "    }\n",
       "\n",
       "    .dataframe thead th {\n",
       "        text-align: right;\n",
       "    }\n",
       "</style>\n",
       "<table border=\"1\" class=\"dataframe\">\n",
       "  <thead>\n",
       "    <tr style=\"text-align: right;\">\n",
       "      <th></th>\n",
       "      <th>folder</th>\n",
       "      <th>total file count</th>\n",
       "      <th>training file count</th>\n",
       "      <th>validation file count</th>\n",
       "      <th>test file count</th>\n",
       "    </tr>\n",
       "  </thead>\n",
       "  <tbody>\n",
       "    <tr>\n",
       "      <th>0</th>\n",
       "      <td>/content/drive/MyDrive/Colab Notebooks/ML Proj...</td>\n",
       "      <td>735</td>\n",
       "      <td>514</td>\n",
       "      <td>110</td>\n",
       "      <td>111</td>\n",
       "    </tr>\n",
       "    <tr>\n",
       "      <th>1</th>\n",
       "      <td>/content/drive/MyDrive/Colab Notebooks/ML Proj...</td>\n",
       "      <td>492</td>\n",
       "      <td>344</td>\n",
       "      <td>74</td>\n",
       "      <td>74</td>\n",
       "    </tr>\n",
       "    <tr>\n",
       "      <th>2</th>\n",
       "      <td>/content/drive/MyDrive/Colab Notebooks/ML Proj...</td>\n",
       "      <td>715</td>\n",
       "      <td>500</td>\n",
       "      <td>107</td>\n",
       "      <td>108</td>\n",
       "    </tr>\n",
       "    <tr>\n",
       "      <th>3</th>\n",
       "      <td>/content/drive/MyDrive/Colab Notebooks/ML Proj...</td>\n",
       "      <td>634</td>\n",
       "      <td>443</td>\n",
       "      <td>95</td>\n",
       "      <td>96</td>\n",
       "    </tr>\n",
       "    <tr>\n",
       "      <th>4</th>\n",
       "      <td>/content/drive/MyDrive/Colab Notebooks/ML Proj...</td>\n",
       "      <td>704</td>\n",
       "      <td>492</td>\n",
       "      <td>106</td>\n",
       "      <td>106</td>\n",
       "    </tr>\n",
       "  </tbody>\n",
       "</table>\n",
       "</div>\n",
       "      <button class=\"colab-df-convert\" onclick=\"convertToInteractive('df-bfe53f79-5ac5-4c37-8178-bbfec7f94761')\"\n",
       "              title=\"Convert this dataframe to an interactive table.\"\n",
       "              style=\"display:none;\">\n",
       "        \n",
       "  <svg xmlns=\"http://www.w3.org/2000/svg\" height=\"24px\"viewBox=\"0 0 24 24\"\n",
       "       width=\"24px\">\n",
       "    <path d=\"M0 0h24v24H0V0z\" fill=\"none\"/>\n",
       "    <path d=\"M18.56 5.44l.94 2.06.94-2.06 2.06-.94-2.06-.94-.94-2.06-.94 2.06-2.06.94zm-11 1L8.5 8.5l.94-2.06 2.06-.94-2.06-.94L8.5 2.5l-.94 2.06-2.06.94zm10 10l.94 2.06.94-2.06 2.06-.94-2.06-.94-.94-2.06-.94 2.06-2.06.94z\"/><path d=\"M17.41 7.96l-1.37-1.37c-.4-.4-.92-.59-1.43-.59-.52 0-1.04.2-1.43.59L10.3 9.45l-7.72 7.72c-.78.78-.78 2.05 0 2.83L4 21.41c.39.39.9.59 1.41.59.51 0 1.02-.2 1.41-.59l7.78-7.78 2.81-2.81c.8-.78.8-2.07 0-2.86zM5.41 20L4 18.59l7.72-7.72 1.47 1.35L5.41 20z\"/>\n",
       "  </svg>\n",
       "      </button>\n",
       "      \n",
       "  <style>\n",
       "    .colab-df-container {\n",
       "      display:flex;\n",
       "      flex-wrap:wrap;\n",
       "      gap: 12px;\n",
       "    }\n",
       "\n",
       "    .colab-df-convert {\n",
       "      background-color: #E8F0FE;\n",
       "      border: none;\n",
       "      border-radius: 50%;\n",
       "      cursor: pointer;\n",
       "      display: none;\n",
       "      fill: #1967D2;\n",
       "      height: 32px;\n",
       "      padding: 0 0 0 0;\n",
       "      width: 32px;\n",
       "    }\n",
       "\n",
       "    .colab-df-convert:hover {\n",
       "      background-color: #E2EBFA;\n",
       "      box-shadow: 0px 1px 2px rgba(60, 64, 67, 0.3), 0px 1px 3px 1px rgba(60, 64, 67, 0.15);\n",
       "      fill: #174EA6;\n",
       "    }\n",
       "\n",
       "    [theme=dark] .colab-df-convert {\n",
       "      background-color: #3B4455;\n",
       "      fill: #D2E3FC;\n",
       "    }\n",
       "\n",
       "    [theme=dark] .colab-df-convert:hover {\n",
       "      background-color: #434B5C;\n",
       "      box-shadow: 0px 1px 3px 1px rgba(0, 0, 0, 0.15);\n",
       "      filter: drop-shadow(0px 1px 2px rgba(0, 0, 0, 0.3));\n",
       "      fill: #FFFFFF;\n",
       "    }\n",
       "  </style>\n",
       "\n",
       "      <script>\n",
       "        const buttonEl =\n",
       "          document.querySelector('#df-bfe53f79-5ac5-4c37-8178-bbfec7f94761 button.colab-df-convert');\n",
       "        buttonEl.style.display =\n",
       "          google.colab.kernel.accessAllowed ? 'block' : 'none';\n",
       "\n",
       "        async function convertToInteractive(key) {\n",
       "          const element = document.querySelector('#df-bfe53f79-5ac5-4c37-8178-bbfec7f94761');\n",
       "          const dataTable =\n",
       "            await google.colab.kernel.invokeFunction('convertToInteractive',\n",
       "                                                     [key], {});\n",
       "          if (!dataTable) return;\n",
       "\n",
       "          const docLinkHtml = 'Like what you see? Visit the ' +\n",
       "            '<a target=\"_blank\" href=https://colab.research.google.com/notebooks/data_table.ipynb>data table notebook</a>'\n",
       "            + ' to learn more about interactive tables.';\n",
       "          element.innerHTML = '';\n",
       "          dataTable['output_type'] = 'display_data';\n",
       "          await google.colab.output.renderOutput(dataTable, element);\n",
       "          const docLink = document.createElement('div');\n",
       "          docLink.innerHTML = docLinkHtml;\n",
       "          element.appendChild(docLink);\n",
       "        }\n",
       "      </script>\n",
       "    </div>\n",
       "  </div>\n",
       "  "
      ],
      "text/plain": [
       "                                              folder  total file count  \\\n",
       "0  /content/drive/MyDrive/Colab Notebooks/ML Proj...               735   \n",
       "1  /content/drive/MyDrive/Colab Notebooks/ML Proj...               492   \n",
       "2  /content/drive/MyDrive/Colab Notebooks/ML Proj...               715   \n",
       "3  /content/drive/MyDrive/Colab Notebooks/ML Proj...               634   \n",
       "4  /content/drive/MyDrive/Colab Notebooks/ML Proj...               704   \n",
       "\n",
       "   training file count  validation file count  test file count  \n",
       "0                  514                    110              111  \n",
       "1                  344                     74               74  \n",
       "2                  500                    107              108  \n",
       "3                  443                     95               96  \n",
       "4                  492                    106              106  "
      ]
     },
     "execution_count": 7,
     "metadata": {},
     "output_type": "execute_result"
    }
   ],
   "source": [
    "fsnap_df"
   ]
  },
  {
   "cell_type": "code",
   "execution_count": null,
   "metadata": {
    "id": "ykb9YeubkGqS"
   },
   "outputs": [],
   "source": [
    "tr_folder = '/content/drive/MyDrive/Colab_Notebooks/ML Project/Data/training data/'\n",
    "for f in tr_files:\n",
    "  fin_folder = ''\n",
    "  if labels[0] in f:\n",
    "    fin_folder = tr_folder+labels[0]+'/'\n",
    "  elif labels[1] in f:\n",
    "    fin_folder = tr_folder+labels[1]+'/'\n",
    "  elif labels[2] in f:\n",
    "    fin_folder = tr_folder+labels[2]+'/'\n",
    "  elif labels[3] in f:\n",
    "    fin_folder = tr_folder+labels[3]+'/'\n",
    "  elif labels[4] in f:\n",
    "    fin_folder = tr_folder+labels[4]+'/'\n",
    "  if fin_folder != '':\n",
    "    shutil.copy(f,fin_folder)"
   ]
  },
  {
   "cell_type": "code",
   "execution_count": null,
   "metadata": {
    "id": "6Gmfiu3YtLpG"
   },
   "outputs": [],
   "source": [
    "tst_folder = '/content/drive/MyDrive/Colab Notebooks/ML Project/Data/test data/'\n",
    "for f in tst_files:\n",
    "  fin_folder = ''\n",
    "  if labels[0] in f:\n",
    "    fin_folder = tst_folder+labels[0]+'/'\n",
    "  elif labels[1] in f:\n",
    "    fin_folder = tst_folder+labels[1]+'/'\n",
    "  elif labels[2] in f:\n",
    "    fin_folder = tst_folder+labels[2]+'/'\n",
    "  elif labels[3] in f:\n",
    "    fin_folder = tst_folder+labels[3]+'/'\n",
    "  elif labels[4] in f:\n",
    "    fin_folder = tst_folder+labels[4]+'/'\n",
    "  if fin_folder != '':\n",
    "    shutil.copy(f,fin_folder)"
   ]
  },
  {
   "cell_type": "code",
   "execution_count": null,
   "metadata": {
    "id": "FWfVm_g1sjBc"
   },
   "outputs": [],
   "source": [
    "val_folder = '/content/drive/MyDrive/Colab Notebooks/ML Project/Data/validation data/'\n",
    "for f in val_files:\n",
    "  fin_folder = ''\n",
    "  if labels[0] in f:\n",
    "    fin_folder = val_folder+labels[0]+'/'\n",
    "  elif labels[1] in f:\n",
    "    fin_folder = val_folder+labels[1]+'/'\n",
    "  elif labels[2] in f:\n",
    "    fin_folder = val_folder+labels[2]+'/'\n",
    "  elif labels[3] in f:\n",
    "    fin_folder = val_folder+labels[3]+'/'\n",
    "  elif labels[4] in f:\n",
    "    fin_folder = val_folder+labels[4]+'/'\n",
    "  if fin_folder != '':\n",
    "    shutil.copy(f,fin_folder)"
   ]
  },
  {
   "cell_type": "markdown",
   "metadata": {
    "id": "oYJ5sA6qWDqU"
   },
   "source": [
    "**making the images same size**"
   ]
  },
  {
   "cell_type": "code",
   "execution_count": 8,
   "metadata": {
    "colab": {
     "base_uri": "https://localhost:8080/"
    },
    "executionInfo": {
     "elapsed": 9018,
     "status": "ok",
     "timestamp": 1683578978691,
     "user": {
      "displayName": "vinutha a",
      "userId": "16189884592385199117"
     },
     "user_tz": 420
    },
    "id": "6Znbj41BVY21",
    "outputId": "2503bce9-7670-49dc-d4d3-ad63cb7763cd"
   },
   "outputs": [
    {
     "name": "stdout",
     "output_type": "stream",
     "text": [
      "Found 2293 files belonging to 5 classes.\n",
      "Found 489 files belonging to 5 classes.\n",
      "Found 497 files belonging to 5 classes.\n"
     ]
    }
   ],
   "source": [
    "train_data = keras.utils.image_dataset_from_directory(\n",
    "    directory='/content/drive/MyDrive/Colab Notebooks/ML Project/Data/training data/',\n",
    "    labels='inferred',\n",
    "    label_mode='categorical',\n",
    "    batch_size=5,\n",
    "    image_size=(224, 224))\n",
    "val_data = keras.utils.image_dataset_from_directory(\n",
    "    directory='/content/drive/MyDrive/Colab Notebooks/ML Project/Data/validation data/',\n",
    "    labels='inferred',\n",
    "    label_mode='categorical',\n",
    "    batch_size=5,\n",
    "    image_size=(224, 224))\n",
    "test_data = keras.utils.image_dataset_from_directory(\n",
    "    directory='/content/drive/MyDrive/Colab Notebooks/ML Project/Data/test data/',\n",
    "    labels='inferred',\n",
    "    label_mode='categorical',\n",
    "    batch_size=5,\n",
    "    image_size=(224, 224))"
   ]
  },
  {
   "cell_type": "code",
   "execution_count": 9,
   "metadata": {
    "executionInfo": {
     "elapsed": 223,
     "status": "ok",
     "timestamp": 1683578986251,
     "user": {
      "displayName": "vinutha a",
      "userId": "16189884592385199117"
     },
     "user_tz": 420
    },
    "id": "65GcAHflsWEk"
   },
   "outputs": [],
   "source": [
    "label_map = {}\n",
    "for key,lab in enumerate(test_data.class_names):\n",
    "  label_map[lab] = key"
   ]
  },
  {
   "cell_type": "code",
   "execution_count": 10,
   "metadata": {
    "colab": {
     "base_uri": "https://localhost:8080/"
    },
    "executionInfo": {
     "elapsed": 8,
     "status": "ok",
     "timestamp": 1683578988363,
     "user": {
      "displayName": "vinutha a",
      "userId": "16189884592385199117"
     },
     "user_tz": 420
    },
    "id": "UQs5HE3ItfAo",
    "outputId": "9685fa65-a3d7-46d0-f330-e7db00069dc7"
   },
   "outputs": [
    {
     "data": {
      "text/plain": [
       "{'baseball': 0, 'basketball': 1, 'fencing': 2, 'tennis': 3, 'volleyball': 4}"
      ]
     },
     "execution_count": 10,
     "metadata": {},
     "output_type": "execute_result"
    }
   ],
   "source": [
    "label_map"
   ]
  },
  {
   "cell_type": "code",
   "execution_count": 11,
   "metadata": {
    "executionInfo": {
     "elapsed": 83299,
     "status": "ok",
     "timestamp": 1683579074953,
     "user": {
      "displayName": "vinutha a",
      "userId": "16189884592385199117"
     },
     "user_tz": 420
    },
    "id": "EJPRCDtTW8Qk"
   },
   "outputs": [],
   "source": [
    "training_x = []\n",
    "training_labels=[]\n",
    "for images, labels in train_data:\n",
    "    training_x.append(images)\n",
    "    training_labels.append(labels)\n",
    "\n",
    "test_x = []\n",
    "test_labels=[]\n",
    "for images, labels in test_data:\n",
    "    test_x.append(images)\n",
    "    test_labels.append(labels)"
   ]
  },
  {
   "cell_type": "code",
   "execution_count": 12,
   "metadata": {
    "executionInfo": {
     "elapsed": 3,
     "status": "ok",
     "timestamp": 1683579083190,
     "user": {
      "displayName": "vinutha a",
      "userId": "16189884592385199117"
     },
     "user_tz": 420
    },
    "id": "-TJpzZle4a_G"
   },
   "outputs": [],
   "source": [
    "test_x = tf.concat(test_x,axis=0)\n",
    "test_labels = tf.concat(test_labels,axis=0)"
   ]
  },
  {
   "cell_type": "code",
   "execution_count": 13,
   "metadata": {
    "executionInfo": {
     "elapsed": 710,
     "status": "ok",
     "timestamp": 1683579085281,
     "user": {
      "displayName": "vinutha a",
      "userId": "16189884592385199117"
     },
     "user_tz": 420
    },
    "id": "9se6miFkAJaD"
   },
   "outputs": [],
   "source": [
    "training_x = tf.concat(training_x,axis=0)\n",
    "training_labels = tf.concat(training_labels,axis=0)"
   ]
  },
  {
   "cell_type": "code",
   "execution_count": null,
   "metadata": {
    "id": "snKQZO9Y-2dI"
   },
   "outputs": [],
   "source": [
    "iterator = test_data.unbatch().as_numpy_iterator()\n",
    "# Iterate over the elements in the unbatched dataset\n",
    "tst_true = []\n",
    "for element in iterator:\n",
    "    # Convert the element to a numpy array\n",
    "    tst_true.append(element[1])"
   ]
  },
  {
   "cell_type": "code",
   "execution_count": null,
   "metadata": {
    "id": "vKRHx084Ygzk"
   },
   "outputs": [],
   "source": [
    "iterator = train_data.unbatch().as_numpy_iterator()\n",
    "# Iterate over the elements in the unbatched dataset\n",
    "train_true = []\n",
    "for element in iterator:\n",
    "    # Convert the element to a numpy array\n",
    "    train_true.append(element[1])"
   ]
  },
  {
   "cell_type": "code",
   "execution_count": null,
   "metadata": {
    "id": "lEPVvRTwDM8x"
   },
   "outputs": [],
   "source": [
    "tst_true = np.array(tst_true)"
   ]
  },
  {
   "cell_type": "code",
   "execution_count": null,
   "metadata": {
    "id": "5pCQq6gjZnIE"
   },
   "outputs": [],
   "source": [
    "train_true = np.array(train_true)"
   ]
  },
  {
   "cell_type": "code",
   "execution_count": 14,
   "metadata": {
    "executionInfo": {
     "elapsed": 1091,
     "status": "ok",
     "timestamp": 1683579092817,
     "user": {
      "displayName": "vinutha a",
      "userId": "16189884592385199117"
     },
     "user_tz": 420
    },
    "id": "d6zxq3sZapIO"
   },
   "outputs": [],
   "source": [
    "from tensorflow import keras\n",
    "from tensorflow.keras.models import Sequential\n",
    "from tensorflow.keras import layers\n",
    "from tensorflow.keras.optimizers import Adam\n",
    "from tensorflow.keras import activations\n",
    "from keras.layers import Dense, Dropout, Flatten\n",
    "from keras.layers.pooling.global_max_pooling2d import GlobalMaxPooling2D\n",
    "tf.get_logger().setLevel('ERROR')\n",
    "import sklearn\n",
    "from sklearn import metrics\n",
    "from tensorflow import metrics\n",
    "import matplotlib.pyplot as plt\n",
    "import warnings\n",
    "warnings.filterwarnings(\"ignore\")\n",
    "from sklearn.metrics import confusion_matrix\n",
    "from keras.applications.vgg16 import VGG16, preprocess_input\n",
    "from keras.callbacks import ModelCheckpoint, EarlyStopping\n",
    "from keras.models import Model\n",
    "from sklearn.metrics import classification_report\n",
    "from sklearn.metrics import accuracy_score"
   ]
  },
  {
   "cell_type": "markdown",
   "metadata": {
    "id": "ariEhmRdYjFX"
   },
   "source": [
    "**ResNet50**"
   ]
  },
  {
   "cell_type": "code",
   "execution_count": 15,
   "metadata": {
    "executionInfo": {
     "elapsed": 422,
     "status": "ok",
     "timestamp": 1683579096644,
     "user": {
      "displayName": "vinutha a",
      "userId": "16189884592385199117"
     },
     "user_tz": 420
    },
    "id": "9tuxwDSSX_JU"
   },
   "outputs": [],
   "source": [
    "from tensorflow.keras.applications import resnet50"
   ]
  },
  {
   "cell_type": "code",
   "execution_count": 16,
   "metadata": {
    "colab": {
     "base_uri": "https://localhost:8080/"
    },
    "executionInfo": {
     "elapsed": 5505,
     "status": "ok",
     "timestamp": 1683579103747,
     "user": {
      "displayName": "vinutha a",
      "userId": "16189884592385199117"
     },
     "user_tz": 420
    },
    "id": "JVlzaLNabdJ6",
    "outputId": "28e0c6aa-2ee6-4a18-c5c9-3b7a3378adc0"
   },
   "outputs": [
    {
     "name": "stdout",
     "output_type": "stream",
     "text": [
      "Downloading data from https://storage.googleapis.com/tensorflow/keras-applications/resnet/resnet50_weights_tf_dim_ordering_tf_kernels_notop.h5\n",
      "94765736/94765736 [==============================] - 3s 0us/step\n"
     ]
    }
   ],
   "source": [
    "image_size = 224\n",
    "inp = layers.Input(shape=(image_size, image_size, 3)) #number of color channels (RGB)\n",
    "img_aug = Sequential(\n",
    "        [\n",
    "            layers.RandomZoom(0.25),\n",
    "            layers.RandomCrop(height= 200, width= 200),\n",
    "            layers.RandomRotation(factor=0.2),\n",
    "            layers.RandomTranslation(height_factor=0.1, width_factor=0.1),\n",
    "            layers.RandomFlip(),\n",
    "            layers.RandomContrast(factor=0.05),\n",
    "        ],\n",
    "        name=\"img_aug\",\n",
    "    )\n",
    "itensor = img_aug(inp)\n",
    "rmodel = resnet50.ResNet50(include_top=False, input_tensor=itensor, weights= 'imagenet')\n",
    "rmodel.trainable = False"
   ]
  },
  {
   "cell_type": "code",
   "execution_count": 17,
   "metadata": {
    "colab": {
     "base_uri": "https://localhost:8080/"
    },
    "executionInfo": {
     "elapsed": 1187,
     "status": "ok",
     "timestamp": 1683579108088,
     "user": {
      "displayName": "vinutha a",
      "userId": "16189884592385199117"
     },
     "user_tz": 420
    },
    "id": "sW65gXnTc0Ep",
    "outputId": "4451dd7a-3f16-4606-f9dd-0f02ea6a705a"
   },
   "outputs": [
    {
     "name": "stdout",
     "output_type": "stream",
     "text": [
      "Model: \"sequential\"\n",
      "_________________________________________________________________\n",
      " Layer (type)                Output Shape              Param #   \n",
      "=================================================================\n",
      " resnet50 (Functional)       (None, 7, 7, 2048)        23587712  \n",
      "                                                                 \n",
      " batch_normalization (BatchN  (None, 7, 7, 2048)       8192      \n",
      " ormalization)                                                   \n",
      "                                                                 \n",
      " activation (Activation)     (None, 7, 7, 2048)        0         \n",
      "                                                                 \n",
      " global_max_pooling2d (Globa  (None, 2048)             0         \n",
      " lMaxPooling2D)                                                  \n",
      "                                                                 \n",
      " dropout (Dropout)           (None, 2048)              0         \n",
      "                                                                 \n",
      " dense (Dense)               (None, 5)                 10245     \n",
      "                                                                 \n",
      "=================================================================\n",
      "Total params: 23,606,149\n",
      "Trainable params: 14,341\n",
      "Non-trainable params: 23,591,808\n",
      "_________________________________________________________________\n"
     ]
    }
   ],
   "source": [
    "resnet = Sequential()\n",
    "resnet.add(rmodel)\n",
    "resnet.add(keras.layers.BatchNormalization())\n",
    "resnet.add(keras.layers.Activation(activations.relu))\n",
    "resnet.add(GlobalMaxPooling2D())\n",
    "resnet.add(Dropout(0.2))\n",
    "resnet.add(Dense(5, activation= 'softmax'))\n",
    "resnet.summary()"
   ]
  },
  {
   "cell_type": "code",
   "execution_count": 18,
   "metadata": {
    "colab": {
     "base_uri": "https://localhost:8080/"
    },
    "executionInfo": {
     "elapsed": 192768,
     "status": "ok",
     "timestamp": 1683579306934,
     "user": {
      "displayName": "vinutha a",
      "userId": "16189884592385199117"
     },
     "user_tz": 420
    },
    "id": "LWcz7uQXgVOz",
    "outputId": "5ad4ef1f-8efc-4cd7-b73b-3a45549cb0e7"
   },
   "outputs": [
    {
     "name": "stdout",
     "output_type": "stream",
     "text": [
      "Epoch 1/100\n",
      "459/459 [==============================] - 37s 49ms/step - loss: 4.8657 - accuracy: 0.4261 - val_loss: 2.0018 - val_accuracy: 0.6830\n",
      "Epoch 2/100\n",
      "459/459 [==============================] - 7s 14ms/step - loss: 3.8688 - accuracy: 0.5329 - val_loss: 1.5338 - val_accuracy: 0.7403\n",
      "Epoch 3/100\n",
      "459/459 [==============================] - 7s 15ms/step - loss: 3.4857 - accuracy: 0.5809 - val_loss: 1.7447 - val_accuracy: 0.7423\n",
      "Epoch 4/100\n",
      "459/459 [==============================] - 7s 14ms/step - loss: 3.0788 - accuracy: 0.6175 - val_loss: 2.1978 - val_accuracy: 0.7260\n",
      "Epoch 5/100\n",
      "459/459 [==============================] - 7s 15ms/step - loss: 3.4096 - accuracy: 0.6044 - val_loss: 1.9134 - val_accuracy: 0.7485\n",
      "Epoch 6/100\n",
      "459/459 [==============================] - 7s 14ms/step - loss: 3.2821 - accuracy: 0.6001 - val_loss: 1.4554 - val_accuracy: 0.7873\n",
      "Epoch 7/100\n",
      "459/459 [==============================] - 7s 15ms/step - loss: 3.3852 - accuracy: 0.6066 - val_loss: 1.6102 - val_accuracy: 0.7853\n",
      "Epoch 8/100\n",
      "459/459 [==============================] - 7s 14ms/step - loss: 3.6107 - accuracy: 0.6071 - val_loss: 1.9670 - val_accuracy: 0.7382\n",
      "Epoch 9/100\n",
      "459/459 [==============================] - 7s 15ms/step - loss: 3.3526 - accuracy: 0.6162 - val_loss: 2.1453 - val_accuracy: 0.7342\n",
      "Epoch 10/100\n",
      "459/459 [==============================] - 7s 14ms/step - loss: 3.4397 - accuracy: 0.6058 - val_loss: 2.6289 - val_accuracy: 0.7055\n",
      "Epoch 11/100\n",
      "459/459 [==============================] - 7s 15ms/step - loss: 3.1864 - accuracy: 0.6140 - val_loss: 1.2888 - val_accuracy: 0.8098\n",
      "Epoch 12/100\n",
      "459/459 [==============================] - 7s 15ms/step - loss: 2.7748 - accuracy: 0.6402 - val_loss: 1.2160 - val_accuracy: 0.8160\n",
      "Epoch 13/100\n",
      "459/459 [==============================] - 7s 14ms/step - loss: 3.4364 - accuracy: 0.6154 - val_loss: 1.5332 - val_accuracy: 0.7955\n",
      "Epoch 14/100\n",
      "459/459 [==============================] - 7s 15ms/step - loss: 2.9017 - accuracy: 0.6450 - val_loss: 1.1083 - val_accuracy: 0.8344\n",
      "Epoch 15/100\n",
      "459/459 [==============================] - 7s 14ms/step - loss: 2.9026 - accuracy: 0.6332 - val_loss: 1.6595 - val_accuracy: 0.7628\n",
      "Epoch 16/100\n",
      "459/459 [==============================] - 7s 15ms/step - loss: 2.7429 - accuracy: 0.6577 - val_loss: 1.3488 - val_accuracy: 0.8241\n",
      "Epoch 17/100\n",
      "459/459 [==============================] - 7s 14ms/step - loss: 2.9772 - accuracy: 0.6398 - val_loss: 1.5266 - val_accuracy: 0.7955\n",
      "Epoch 18/100\n",
      "459/459 [==============================] - 7s 15ms/step - loss: 3.0720 - accuracy: 0.6406 - val_loss: 1.5505 - val_accuracy: 0.7955\n",
      "Epoch 19/100\n",
      "459/459 [==============================] - 7s 14ms/step - loss: 2.9386 - accuracy: 0.6354 - val_loss: 1.3154 - val_accuracy: 0.7873\n",
      "Epoch 20/100\n",
      "459/459 [==============================] - 7s 15ms/step - loss: 2.9101 - accuracy: 0.6249 - val_loss: 1.4559 - val_accuracy: 0.7873\n",
      "Epoch 21/100\n",
      "459/459 [==============================] - 7s 14ms/step - loss: 2.8793 - accuracy: 0.6249 - val_loss: 1.4113 - val_accuracy: 0.8057\n",
      "Epoch 22/100\n",
      "459/459 [==============================] - 7s 15ms/step - loss: 2.8499 - accuracy: 0.6289 - val_loss: 1.8298 - val_accuracy: 0.7607\n",
      "Epoch 23/100\n",
      "459/459 [==============================] - 7s 14ms/step - loss: 2.9446 - accuracy: 0.6276 - val_loss: 1.3139 - val_accuracy: 0.7873\n",
      "Epoch 24/100\n",
      "455/459 [============================>.] - ETA: 0s - loss: 2.8052 - accuracy: 0.6312Restoring model weights from the end of the best epoch: 14.\n",
      "459/459 [==============================] - 7s 15ms/step - loss: 2.7983 - accuracy: 0.6311 - val_loss: 1.5193 - val_accuracy: 0.7914\n",
      "Epoch 24: early stopping\n"
     ]
    }
   ],
   "source": [
    "adam = tf.keras.optimizers.Adam(learning_rate=0.001)\n",
    "resnet.compile(optimizer= adam, loss='categorical_crossentropy', metrics=['accuracy']) \n",
    "result_resnet = resnet.fit(train_data, epochs=100,validation_data=val_data, callbacks= tf.keras.callbacks.EarlyStopping(monitor='val_loss', patience=10, mode='min', verbose=2, restore_best_weights=True))"
   ]
  },
  {
   "cell_type": "code",
   "execution_count": 19,
   "metadata": {
    "executionInfo": {
     "elapsed": 4,
     "status": "ok",
     "timestamp": 1683579352880,
     "user": {
      "displayName": "vinutha a",
      "userId": "16189884592385199117"
     },
     "user_tz": 420
    },
    "id": "jThKQjZ3rgmX"
   },
   "outputs": [],
   "source": [
    "training_accuracy = result_resnet.history[\"accuracy\"]\n",
    "training_loss = []\n",
    "for accuracy in training_accuracy:\n",
    "  training_loss.append(1-accuracy)\n",
    "validation_accuracy = result_resnet.history[\"val_accuracy\"]\n",
    "validation_loss = []\n",
    "for accuracy in validation_accuracy:\n",
    "  validation_loss.append(1-accuracy)"
   ]
  },
  {
   "cell_type": "code",
   "execution_count": 20,
   "metadata": {
    "colab": {
     "base_uri": "https://localhost:8080/",
     "height": 472
    },
    "executionInfo": {
     "elapsed": 393,
     "status": "ok",
     "timestamp": 1683579355416,
     "user": {
      "displayName": "vinutha a",
      "userId": "16189884592385199117"
     },
     "user_tz": 420
    },
    "id": "N1ZaUn6ksVWy",
    "outputId": "6a5c54b9-29a1-4375-b906-1fbf1c8a14f7"
   },
   "outputs": [
    {
     "data": {
      "image/png": "[encoded data removed]",
      "text/plain": [
       "<Figure size 640x480 with 1 Axes>"
      ]
     },
     "metadata": {},
     "output_type": "display_data"
    }
   ],
   "source": [
    "plt.plot(training_loss, label='Training error')\n",
    "plt.plot(validation_loss, label = 'Validation error')\n",
    "plt.title(\"Training & validation errors v/s epochs\")\n",
    "plt.ylabel(\"Loss\")\n",
    "plt.xlabel(\"Epoch\")\n",
    "plt.legend([\"Training loss\", \"Validation Loss\"], loc=\"upper right\")\n",
    "plt.show()"
   ]
  },
  {
   "cell_type": "markdown",
   "metadata": {
    "id": "RFaYKK6XWrDy"
   },
   "source": [
    "**TEST MODEL METRICS**"
   ]
  },
  {
   "cell_type": "code",
   "execution_count": 21,
   "metadata": {
    "colab": {
     "base_uri": "https://localhost:8080/"
    },
    "executionInfo": {
     "elapsed": 2525,
     "status": "ok",
     "timestamp": 1683579362611,
     "user": {
      "displayName": "vinutha a",
      "userId": "16189884592385199117"
     },
     "user_tz": 420
    },
    "id": "685CzuCOtCdR",
    "outputId": "8097cfba-0f76-4559-cad1-33e57bb09239"
   },
   "outputs": [
    {
     "name": "stdout",
     "output_type": "stream",
     "text": [
      "16/16 [==============================] - 2s 32ms/step\n"
     ]
    }
   ],
   "source": [
    "y_pred = resnet.predict(test_x)\n",
    "y_predict = np.argmax(y_pred,axis=1)\n",
    "y_true = np.argmax(test_labels,axis=1)\n",
    "racc = accuracy_score(y_true,y_predict)"
   ]
  },
  {
   "cell_type": "code",
   "execution_count": 22,
   "metadata": {
    "colab": {
     "base_uri": "https://localhost:8080/"
    },
    "executionInfo": {
     "elapsed": 404,
     "status": "ok",
     "timestamp": 1683579366504,
     "user": {
      "displayName": "vinutha a",
      "userId": "16189884592385199117"
     },
     "user_tz": 420
    },
    "id": "AXyiKMkmKNuO",
    "outputId": "bdec5fdb-f473-4532-b3f3-a8fe815d8e62"
   },
   "outputs": [
    {
     "name": "stdout",
     "output_type": "stream",
     "text": [
      "Confusion Matrix:\n",
      "----------------\n",
      "[[92 13  4  0  2]\n",
      " [ 0 68  2  3  2]\n",
      " [ 2  4 87  1  2]\n",
      " [ 8  4  6 86  4]\n",
      " [ 3  6 11  0 87]]\n"
     ]
    }
   ],
   "source": [
    "# Convert the binary indicator matrices to binary classification problems\n",
    "print('Confusion Matrix:')\n",
    "print('----------------')\n",
    "print(confusion_matrix(y_true,y_predict))\n",
    "#for i in range(y_true.shape[1]):\n",
    "#    class_true = y_true[:, i]\n",
    "#   class_pred = y_predict[:, i]\n",
    "#    tn, fp, fn, tp = confusion_matrix(class_true, class_pred).ravel()\n",
    "#    print(f\"Confusion matrix for class {i}:\")\n",
    "#    print(f\"True negatives: {tn}, False positives: {fp}, False negatives: {fn}, True positives: {tp}\")"
   ]
  },
  {
   "cell_type": "code",
   "execution_count": 23,
   "metadata": {
    "colab": {
     "base_uri": "https://localhost:8080/"
    },
    "executionInfo": {
     "elapsed": 513,
     "status": "ok",
     "timestamp": 1683579370909,
     "user": {
      "displayName": "vinutha a",
      "userId": "16189884592385199117"
     },
     "user_tz": 420
    },
    "id": "ePUZ3GA3tY0Y",
    "outputId": "3daf90b6-c2bb-466f-8c09-c7f4530d56ac"
   },
   "outputs": [
    {
     "name": "stdout",
     "output_type": "stream",
     "text": [
      "Classification Report:\n",
      "----------------------\n",
      "              precision    recall  f1-score   support\n",
      "\n",
      "           0       0.88      0.83      0.85       111\n",
      "           1       0.72      0.91      0.80        75\n",
      "           2       0.79      0.91      0.84        96\n",
      "           3       0.96      0.80      0.87       108\n",
      "           4       0.90      0.81      0.85       107\n",
      "\n",
      "    accuracy                           0.85       497\n",
      "   macro avg       0.85      0.85      0.84       497\n",
      "weighted avg       0.86      0.85      0.85       497\n",
      "\n"
     ]
    }
   ],
   "source": [
    "print('Classification Report:')\n",
    "print('----------------------')\n",
    "print(classification_report(y_true,y_predict))"
   ]
  },
  {
   "cell_type": "code",
   "execution_count": 24,
   "metadata": {
    "colab": {
     "base_uri": "https://localhost:8080/"
    },
    "executionInfo": {
     "elapsed": 326,
     "status": "ok",
     "timestamp": 1683579374190,
     "user": {
      "displayName": "vinutha a",
      "userId": "16189884592385199117"
     },
     "user_tz": 420
    },
    "id": "zOtyhfA5BTqp",
    "outputId": "47091e51-25eb-4c64-e2a4-2ac97bcb7fd2"
   },
   "outputs": [
    {
     "name": "stdout",
     "output_type": "stream",
     "text": [
      "accuracy score:\n",
      "---------------\n",
      "0.8450704225352113\n"
     ]
    }
   ],
   "source": [
    "print('accuracy score:')\n",
    "print('---------------')\n",
    "print(racc)"
   ]
  },
  {
   "cell_type": "markdown",
   "metadata": {
    "id": "4WrOvHQXWxAI"
   },
   "source": [
    "**TRAINING MODEL METRICS**"
   ]
  },
  {
   "cell_type": "code",
   "execution_count": 25,
   "metadata": {
    "colab": {
     "base_uri": "https://localhost:8080/"
    },
    "executionInfo": {
     "elapsed": 2935,
     "status": "ok",
     "timestamp": 1683579461647,
     "user": {
      "displayName": "vinutha a",
      "userId": "16189884592385199117"
     },
     "user_tz": 420
    },
    "id": "S7ZLyXtGXnGf",
    "outputId": "e7effeac-443d-4622-8237-e41e4abed568"
   },
   "outputs": [
    {
     "name": "stdout",
     "output_type": "stream",
     "text": [
      "72/72 [==============================] - 1s 20ms/step\n"
     ]
    }
   ],
   "source": [
    "y_pred_train = resnet.predict(training_x)\n",
    "y_predict_train = np.argmax(y_pred_train,axis=1)\n",
    "y_true_train = np.argmax(training_labels,axis=1)\n",
    "racc_train = accuracy_score(y_true_train,y_predict_train)"
   ]
  },
  {
   "cell_type": "code",
   "execution_count": 26,
   "metadata": {
    "colab": {
     "base_uri": "https://localhost:8080/"
    },
    "executionInfo": {
     "elapsed": 293,
     "status": "ok",
     "timestamp": 1683579505771,
     "user": {
      "displayName": "vinutha a",
      "userId": "16189884592385199117"
     },
     "user_tz": 420
    },
    "id": "s4spM4zeaLrX",
    "outputId": "78298a34-332b-400e-faf0-cd332e03bc70"
   },
   "outputs": [
    {
     "name": "stdout",
     "output_type": "stream",
     "text": [
      "Confusion Matrix:\n",
      "----------------\n",
      "[[460  20  22   5   7]\n",
      " [  2 312   8   3  19]\n",
      " [  7   7 413   7   9]\n",
      " [ 34  24  24 401  17]\n",
      " [ 19  35  40   4 394]]\n"
     ]
    }
   ],
   "source": [
    "# Convert the binary indicator matrices to binary classification problems\n",
    "print('Confusion Matrix:')\n",
    "print('----------------')\n",
    "print(confusion_matrix(y_true_train,y_predict_train))\n",
    "#for i in range(y_true_train.shape[1]):\n",
    "#    class_true = y_true_train[:, i]\n",
    "#    class_pred = y_predict_train[:, i]\n",
    "#    tn, fp, fn, tp = confusion_matrix(class_true, class_pred).ravel()\n",
    "#    print(f\"Confusion matrix for class {i}:\")\n",
    "#    print(f\"True negatives: {tn}, False positives: {fp}, False negatives: {fn}, True positives: {tp}\")"
   ]
  },
  {
   "cell_type": "code",
   "execution_count": 27,
   "metadata": {
    "colab": {
     "base_uri": "https://localhost:8080/"
    },
    "executionInfo": {
     "elapsed": 12,
     "status": "ok",
     "timestamp": 1683579508850,
     "user": {
      "displayName": "vinutha a",
      "userId": "16189884592385199117"
     },
     "user_tz": 420
    },
    "id": "XN0yguKnuDRO",
    "outputId": "269f725e-bd6a-43dd-a0af-7b7ea104f719"
   },
   "outputs": [
    {
     "name": "stdout",
     "output_type": "stream",
     "text": [
      "Classification Report:\n",
      "----------------------\n",
      "              precision    recall  f1-score   support\n",
      "\n",
      "           0       0.88      0.89      0.89       514\n",
      "           1       0.78      0.91      0.84       344\n",
      "           2       0.81      0.93      0.87       443\n",
      "           3       0.95      0.80      0.87       500\n",
      "           4       0.88      0.80      0.84       492\n",
      "\n",
      "    accuracy                           0.86      2293\n",
      "   macro avg       0.86      0.87      0.86      2293\n",
      "weighted avg       0.87      0.86      0.86      2293\n",
      "\n"
     ]
    }
   ],
   "source": [
    "print('Classification Report:')\n",
    "print('----------------------')\n",
    "print(classification_report(y_true_train,y_predict_train,target_names=['0','1','2','3','4']))"
   ]
  },
  {
   "cell_type": "code",
   "execution_count": 28,
   "metadata": {
    "colab": {
     "base_uri": "https://localhost:8080/"
    },
    "executionInfo": {
     "elapsed": 13,
     "status": "ok",
     "timestamp": 1683579512404,
     "user": {
      "displayName": "vinutha a",
      "userId": "16189884592385199117"
     },
     "user_tz": 420
    },
    "id": "KoVvlAneaMFv",
    "outputId": "a4797664-5207-4e8f-9151-9df9abe2b42a"
   },
   "outputs": [
    {
     "name": "stdout",
     "output_type": "stream",
     "text": [
      "accuracy_score:\n",
      "---------------\n",
      "0.8634976013955517\n"
     ]
    }
   ],
   "source": [
    "print('accuracy_score:')\n",
    "print('---------------')\n",
    "print(racc_train)"
   ]
  },
  {
   "cell_type": "markdown",
   "metadata": {
    "id": "S8i-8ywgYnnQ"
   },
   "source": [
    "**EfficientNetB0**"
   ]
  },
  {
   "cell_type": "code",
   "execution_count": 29,
   "metadata": {
    "executionInfo": {
     "elapsed": 801,
     "status": "ok",
     "timestamp": 1683579515832,
     "user": {
      "displayName": "vinutha a",
      "userId": "16189884592385199117"
     },
     "user_tz": 420
    },
    "id": "KBx1ollLagZM"
   },
   "outputs": [],
   "source": [
    "from tensorflow.keras.applications import EfficientNetB0"
   ]
  },
  {
   "cell_type": "code",
   "execution_count": 30,
   "metadata": {
    "colab": {
     "base_uri": "https://localhost:8080/"
    },
    "executionInfo": {
     "elapsed": 4910,
     "status": "ok",
     "timestamp": 1683579522837,
     "user": {
      "displayName": "vinutha a",
      "userId": "16189884592385199117"
     },
     "user_tz": 420
    },
    "id": "6E5qIdVGalfs",
    "outputId": "e13e09d3-a2a9-42d0-e71c-8d47eb000456"
   },
   "outputs": [
    {
     "name": "stdout",
     "output_type": "stream",
     "text": [
      "Downloading data from https://storage.googleapis.com/keras-applications/efficientnetb0_notop.h5\n",
      "16705208/16705208 [==============================] - 1s 0us/step\n"
     ]
    }
   ],
   "source": [
    "einp = layers.Input(shape=(224, 224, 3)) #number of color channels (RGB)\n",
    "eimg_aug = Sequential(\n",
    "        [\n",
    "            layers.RandomZoom(0.25),\n",
    "            layers.RandomCrop(height= 200, width= 200),\n",
    "            layers.RandomRotation(factor=0.2),\n",
    "            layers.RandomTranslation(height_factor=0.1, width_factor=0.1),\n",
    "            layers.RandomFlip(),\n",
    "            layers.RandomContrast(factor=0.05),\n",
    "        ],\n",
    "        name=\"eimg_aug\",\n",
    "    )\n",
    "e_itensor = eimg_aug(einp)\n",
    "emodel = EfficientNetB0(include_top=False, input_tensor=e_itensor, weights= 'imagenet')\n",
    "emodel.trainable = False"
   ]
  },
  {
   "cell_type": "code",
   "execution_count": 32,
   "metadata": {
    "colab": {
     "base_uri": "https://localhost:8080/"
    },
    "executionInfo": {
     "elapsed": 1046,
     "status": "ok",
     "timestamp": 1683579529135,
     "user": {
      "displayName": "vinutha a",
      "userId": "16189884592385199117"
     },
     "user_tz": 420
    },
    "id": "2q6cXccjlvje",
    "outputId": "d81d081a-a8f7-434a-851f-749cc05e8f2d"
   },
   "outputs": [
    {
     "name": "stdout",
     "output_type": "stream",
     "text": [
      "Model: \"sequential_2\"\n",
      "_________________________________________________________________\n",
      " Layer (type)                Output Shape              Param #   \n",
      "=================================================================\n",
      " efficientnetb0 (Functional)  (None, 7, 7, 1280)       4049571   \n",
      "                                                                 \n",
      " batch_normalization_2 (Batc  (None, 7, 7, 1280)       5120      \n",
      " hNormalization)                                                 \n",
      "                                                                 \n",
      " activation_2 (Activation)   (None, 7, 7, 1280)        0         \n",
      "                                                                 \n",
      " global_max_pooling2d_2 (Glo  (None, 1280)             0         \n",
      " balMaxPooling2D)                                                \n",
      "                                                                 \n",
      " dropout_2 (Dropout)         (None, 1280)              0         \n",
      "                                                                 \n",
      " dense_2 (Dense)             (None, 5)                 6405      \n",
      "                                                                 \n",
      "=================================================================\n",
      "Total params: 4,061,096\n",
      "Trainable params: 8,965\n",
      "Non-trainable params: 4,052,131\n",
      "_________________________________________________________________\n"
     ]
    }
   ],
   "source": [
    "effnet = Sequential()\n",
    "effnet.add(emodel)\n",
    "effnet.add(keras.layers.BatchNormalization())\n",
    "effnet.add(keras.layers.Activation(activations.relu))\n",
    "effnet.add(GlobalMaxPooling2D())\n",
    "effnet.add(Dropout(0.2))\n",
    "effnet.add(Dense(5, activation= 'softmax'))\n",
    "effnet.summary()"
   ]
  },
  {
   "cell_type": "code",
   "execution_count": 33,
   "metadata": {
    "colab": {
     "base_uri": "https://localhost:8080/"
    },
    "executionInfo": {
     "elapsed": 211057,
     "status": "ok",
     "timestamp": 1683579744176,
     "user": {
      "displayName": "vinutha a",
      "userId": "16189884592385199117"
     },
     "user_tz": 420
    },
    "id": "wl7ujRMbfiN7",
    "outputId": "ede9e882-270b-4acf-820f-c7b407c3b7e3"
   },
   "outputs": [
    {
     "name": "stdout",
     "output_type": "stream",
     "text": [
      "Epoch 1/100\n",
      "459/459 [==============================] - 17s 20ms/step - loss: 3.7793 - accuracy: 0.4331 - val_loss: 1.8662 - val_accuracy: 0.7055\n",
      "Epoch 2/100\n",
      "459/459 [==============================] - 7s 15ms/step - loss: 2.5513 - accuracy: 0.5918 - val_loss: 1.2747 - val_accuracy: 0.7996\n",
      "Epoch 3/100\n",
      "459/459 [==============================] - 7s 15ms/step - loss: 2.3195 - accuracy: 0.6249 - val_loss: 0.6308 - val_accuracy: 0.8671\n",
      "Epoch 4/100\n",
      "459/459 [==============================] - 7s 15ms/step - loss: 2.0786 - accuracy: 0.6594 - val_loss: 0.8860 - val_accuracy: 0.8528\n",
      "Epoch 5/100\n",
      "459/459 [==============================] - 7s 15ms/step - loss: 2.1166 - accuracy: 0.6511 - val_loss: 0.9352 - val_accuracy: 0.8384\n",
      "Epoch 6/100\n",
      "459/459 [==============================] - 7s 15ms/step - loss: 2.1006 - accuracy: 0.6590 - val_loss: 0.9931 - val_accuracy: 0.8262\n",
      "Epoch 7/100\n",
      "459/459 [==============================] - 7s 15ms/step - loss: 2.1653 - accuracy: 0.6420 - val_loss: 0.9309 - val_accuracy: 0.8446\n",
      "Epoch 8/100\n",
      "459/459 [==============================] - 7s 15ms/step - loss: 2.0231 - accuracy: 0.6616 - val_loss: 0.5510 - val_accuracy: 0.8875\n",
      "Epoch 9/100\n",
      "459/459 [==============================] - 7s 15ms/step - loss: 1.9408 - accuracy: 0.6703 - val_loss: 0.5065 - val_accuracy: 0.8814\n",
      "Epoch 10/100\n",
      "459/459 [==============================] - 7s 15ms/step - loss: 1.8294 - accuracy: 0.6725 - val_loss: 1.0871 - val_accuracy: 0.8323\n",
      "Epoch 11/100\n",
      "459/459 [==============================] - 7s 15ms/step - loss: 1.9223 - accuracy: 0.6773 - val_loss: 1.2327 - val_accuracy: 0.8139\n",
      "Epoch 12/100\n",
      "459/459 [==============================] - 7s 15ms/step - loss: 1.8757 - accuracy: 0.6777 - val_loss: 0.5111 - val_accuracy: 0.8978\n",
      "Epoch 13/100\n",
      "459/459 [==============================] - 7s 15ms/step - loss: 1.8040 - accuracy: 0.6843 - val_loss: 0.6574 - val_accuracy: 0.8875\n",
      "Epoch 14/100\n",
      "459/459 [==============================] - 7s 15ms/step - loss: 1.8243 - accuracy: 0.6694 - val_loss: 0.8381 - val_accuracy: 0.8323\n",
      "Epoch 15/100\n",
      "459/459 [==============================] - 7s 15ms/step - loss: 1.6733 - accuracy: 0.6895 - val_loss: 0.4309 - val_accuracy: 0.9162\n",
      "Epoch 16/100\n",
      "459/459 [==============================] - 7s 15ms/step - loss: 1.6839 - accuracy: 0.6891 - val_loss: 0.5586 - val_accuracy: 0.8834\n",
      "Epoch 17/100\n",
      "459/459 [==============================] - 7s 15ms/step - loss: 1.6274 - accuracy: 0.6904 - val_loss: 0.4691 - val_accuracy: 0.9039\n",
      "Epoch 18/100\n",
      "459/459 [==============================] - 7s 15ms/step - loss: 1.6904 - accuracy: 0.6973 - val_loss: 0.5037 - val_accuracy: 0.8998\n",
      "Epoch 19/100\n",
      "459/459 [==============================] - 7s 15ms/step - loss: 1.5751 - accuracy: 0.6930 - val_loss: 0.4292 - val_accuracy: 0.9080\n",
      "Epoch 20/100\n",
      "459/459 [==============================] - 7s 15ms/step - loss: 1.6382 - accuracy: 0.6873 - val_loss: 0.5794 - val_accuracy: 0.8630\n",
      "Epoch 21/100\n",
      "459/459 [==============================] - 7s 15ms/step - loss: 1.6385 - accuracy: 0.6873 - val_loss: 0.5152 - val_accuracy: 0.8793\n",
      "Epoch 22/100\n",
      "459/459 [==============================] - 7s 15ms/step - loss: 1.5162 - accuracy: 0.6952 - val_loss: 0.6113 - val_accuracy: 0.8487\n",
      "Epoch 23/100\n",
      "459/459 [==============================] - 7s 15ms/step - loss: 1.5442 - accuracy: 0.6829 - val_loss: 0.5372 - val_accuracy: 0.8814\n",
      "Epoch 24/100\n",
      "459/459 [==============================] - 7s 15ms/step - loss: 1.4242 - accuracy: 0.7148 - val_loss: 0.4455 - val_accuracy: 0.9080\n",
      "Epoch 25/100\n",
      "459/459 [==============================] - 7s 15ms/step - loss: 1.5557 - accuracy: 0.6969 - val_loss: 0.5257 - val_accuracy: 0.8855\n",
      "Epoch 26/100\n",
      "459/459 [==============================] - 7s 15ms/step - loss: 1.5090 - accuracy: 0.6934 - val_loss: 0.4353 - val_accuracy: 0.8978\n",
      "Epoch 27/100\n",
      "459/459 [==============================] - 7s 15ms/step - loss: 1.3907 - accuracy: 0.7008 - val_loss: 0.5525 - val_accuracy: 0.8732\n",
      "Epoch 28/100\n",
      "459/459 [==============================] - 7s 15ms/step - loss: 1.3493 - accuracy: 0.6960 - val_loss: 0.5129 - val_accuracy: 0.8814\n",
      "Epoch 29/100\n",
      "456/459 [============================>.] - ETA: 0s - loss: 1.4519 - accuracy: 0.6873Restoring model weights from the end of the best epoch: 19.\n",
      "459/459 [==============================] - 7s 15ms/step - loss: 1.4540 - accuracy: 0.6869 - val_loss: 0.7160 - val_accuracy: 0.8425\n",
      "Epoch 29: early stopping\n"
     ]
    }
   ],
   "source": [
    "eff_adam = tf.keras.optimizers.Adam(learning_rate=0.001)\n",
    "effnet.compile(optimizer= eff_adam, loss='categorical_crossentropy', metrics=['accuracy']) \n",
    "result_effnet = effnet.fit(train_data, epochs=100,validation_data=val_data, callbacks= tf.keras.callbacks.EarlyStopping(monitor='val_loss', patience=10, mode='min', verbose=2, restore_best_weights=True))"
   ]
  },
  {
   "cell_type": "code",
   "execution_count": 34,
   "metadata": {
    "executionInfo": {
     "elapsed": 313,
     "status": "ok",
     "timestamp": 1683579832023,
     "user": {
      "displayName": "vinutha a",
      "userId": "16189884592385199117"
     },
     "user_tz": 420
    },
    "id": "1mp9KP82fiQo"
   },
   "outputs": [],
   "source": [
    "eff_training_accuracy = result_effnet.history[\"accuracy\"]\n",
    "eff_training_loss = []\n",
    "for accuracy in eff_training_accuracy:\n",
    "  eff_training_loss.append(1-accuracy)\n",
    "eff_validation_accuracy = result_effnet.history[\"val_accuracy\"]\n",
    "eff_validation_loss = []\n",
    "for accuracy in eff_validation_accuracy:\n",
    "  eff_validation_loss.append(1-accuracy)"
   ]
  },
  {
   "cell_type": "code",
   "execution_count": 35,
   "metadata": {
    "colab": {
     "base_uri": "https://localhost:8080/",
     "height": 472
    },
    "executionInfo": {
     "elapsed": 350,
     "status": "ok",
     "timestamp": 1683579834516,
     "user": {
      "displayName": "vinutha a",
      "userId": "16189884592385199117"
     },
     "user_tz": 420
    },
    "id": "Qk4V5ES3fiTd",
    "outputId": "e0ca4f6d-e170-4dbd-b60f-a8d125073ac1"
   },
   "outputs": [
    {
     "data": {
      "image/png": "[encoded data removed]",
      "text/plain": [
       "<Figure size 640x480 with 1 Axes>"
      ]
     },
     "metadata": {},
     "output_type": "display_data"
    }
   ],
   "source": [
    "plt.plot(eff_training_loss, label='Training error')\n",
    "plt.plot(eff_validation_loss, label = 'Validation error')\n",
    "plt.title(\"Training & validation errors v/s epochs\")\n",
    "plt.ylabel(\"Loss\")\n",
    "plt.xlabel(\"Epoch\")\n",
    "plt.legend([\"Training loss\", \"Validation Loss\"], loc=\"upper right\")\n",
    "plt.show()"
   ]
  },
  {
   "cell_type": "markdown",
   "metadata": {
    "id": "at74yEIvnZ91"
   },
   "source": [
    "**TEST MODEL METRICS**"
   ]
  },
  {
   "cell_type": "code",
   "execution_count": 36,
   "metadata": {
    "colab": {
     "base_uri": "https://localhost:8080/"
    },
    "executionInfo": {
     "elapsed": 2416,
     "status": "ok",
     "timestamp": 1683579841143,
     "user": {
      "displayName": "vinutha a",
      "userId": "16189884592385199117"
     },
     "user_tz": 420
    },
    "id": "N9BGCCXvfiWS",
    "outputId": "38128e77-c4e2-4bf5-92c8-8c721e863e46"
   },
   "outputs": [
    {
     "name": "stdout",
     "output_type": "stream",
     "text": [
      "16/16 [==============================] - 2s 18ms/step\n"
     ]
    }
   ],
   "source": [
    "eff_y_pred = effnet.predict(test_x)\n",
    "eff_y_predict = np.argmax(eff_y_pred,axis=1)\n",
    "eff_y_true = np.argmax(test_labels,axis=1)\n",
    "eff_racc = accuracy_score(eff_y_true,eff_y_predict)"
   ]
  },
  {
   "cell_type": "code",
   "execution_count": 37,
   "metadata": {
    "colab": {
     "base_uri": "https://localhost:8080/"
    },
    "executionInfo": {
     "elapsed": 302,
     "status": "ok",
     "timestamp": 1683579843290,
     "user": {
      "displayName": "vinutha a",
      "userId": "16189884592385199117"
     },
     "user_tz": 420
    },
    "id": "5RUcvCCVfigH",
    "outputId": "5a5f3816-0d13-4e48-f2df-0637cd5939f9"
   },
   "outputs": [
    {
     "name": "stdout",
     "output_type": "stream",
     "text": [
      "Confusion Matrix:\n",
      "----------------\n",
      "[[104   0   6   0   1]\n",
      " [  0  74   1   0   0]\n",
      " [  8   3  80   5   0]\n",
      " [ 10   1   3  91   3]\n",
      " [  2   9   2   1  93]]\n"
     ]
    }
   ],
   "source": [
    "# Convert the binary indicator matrices to binary classification problems\n",
    "print('Confusion Matrix:')\n",
    "print('----------------')\n",
    "print(confusion_matrix(eff_y_true,eff_y_predict))\n",
    "#for i in range(eff_y_true.shape[1]):\n",
    "#    class_true = eff_y_true[:, i]\n",
    "#    class_pred = eff_y_predict[:, i]\n",
    "#    tn, fp, fn, tp = confusion_matrix(class_true, class_pred).ravel()\n",
    "#    print(f\"Confusion matrix for class {i}:\")\n",
    "#    print(f\"True negatives: {tn}, False positives: {fp}, False negatives: {fn}, True positives: {tp}\")"
   ]
  },
  {
   "cell_type": "code",
   "execution_count": 38,
   "metadata": {
    "colab": {
     "base_uri": "https://localhost:8080/"
    },
    "executionInfo": {
     "elapsed": 255,
     "status": "ok",
     "timestamp": 1683579847065,
     "user": {
      "displayName": "vinutha a",
      "userId": "16189884592385199117"
     },
     "user_tz": 420
    },
    "id": "as-4SPXPuUQ0",
    "outputId": "3a9da9fe-2134-4a5a-835d-982fd97b3a39"
   },
   "outputs": [
    {
     "name": "stdout",
     "output_type": "stream",
     "text": [
      "Classification Report:\n",
      "----------------------\n",
      "              precision    recall  f1-score   support\n",
      "\n",
      "           0       0.84      0.94      0.89       111\n",
      "           1       0.85      0.99      0.91        75\n",
      "           2       0.87      0.83      0.85        96\n",
      "           3       0.94      0.84      0.89       108\n",
      "           4       0.96      0.87      0.91       107\n",
      "\n",
      "    accuracy                           0.89       497\n",
      "   macro avg       0.89      0.89      0.89       497\n",
      "weighted avg       0.89      0.89      0.89       497\n",
      "\n"
     ]
    }
   ],
   "source": [
    "print('Classification Report:')\n",
    "print('----------------------')\n",
    "print(classification_report(eff_y_true,eff_y_predict,target_names=['0','1','2','3','4']))"
   ]
  },
  {
   "cell_type": "code",
   "execution_count": 39,
   "metadata": {
    "colab": {
     "base_uri": "https://localhost:8080/"
    },
    "executionInfo": {
     "elapsed": 400,
     "status": "ok",
     "timestamp": 1683579849983,
     "user": {
      "displayName": "vinutha a",
      "userId": "16189884592385199117"
     },
     "user_tz": 420
    },
    "id": "8LFwKYy4fiit",
    "outputId": "f45588d4-2e3f-42d4-be62-637e2bba2008"
   },
   "outputs": [
    {
     "name": "stdout",
     "output_type": "stream",
     "text": [
      "accuracy score:\n",
      "---------------\n",
      "0.8893360160965795\n"
     ]
    }
   ],
   "source": [
    "print('accuracy score:')\n",
    "print('---------------')\n",
    "print(eff_racc)"
   ]
  },
  {
   "cell_type": "markdown",
   "metadata": {
    "id": "sfxZDMDeo8pw"
   },
   "source": [
    "**TRAINING MODEL METRICS**"
   ]
  },
  {
   "cell_type": "code",
   "execution_count": 40,
   "metadata": {
    "colab": {
     "base_uri": "https://localhost:8080/"
    },
    "executionInfo": {
     "elapsed": 1673,
     "status": "ok",
     "timestamp": 1683579854476,
     "user": {
      "displayName": "vinutha a",
      "userId": "16189884592385199117"
     },
     "user_tz": 420
    },
    "id": "vY-I0o8wfilZ",
    "outputId": "2146d199-c561-4976-d459-0774110a77d4"
   },
   "outputs": [
    {
     "name": "stdout",
     "output_type": "stream",
     "text": [
      "72/72 [==============================] - 1s 16ms/step\n"
     ]
    }
   ],
   "source": [
    "eff_y_pred_train = effnet.predict(training_x)\n",
    "eff_y_predict_train = np.argmax(eff_y_pred_train,axis=1)\n",
    "eff_y_true_train = np.argmax(training_labels,axis=1)\n",
    "eff_racc_train = accuracy_score(eff_y_true_train,eff_y_predict_train)"
   ]
  },
  {
   "cell_type": "code",
   "execution_count": 41,
   "metadata": {
    "colab": {
     "base_uri": "https://localhost:8080/"
    },
    "executionInfo": {
     "elapsed": 422,
     "status": "ok",
     "timestamp": 1683579856910,
     "user": {
      "displayName": "vinutha a",
      "userId": "16189884592385199117"
     },
     "user_tz": 420
    },
    "id": "yfY5XYuMfiq5",
    "outputId": "a8a7efe1-e388-464d-9875-0e7cded60f13"
   },
   "outputs": [
    {
     "name": "stdout",
     "output_type": "stream",
     "text": [
      "Confusion Matrix:\n",
      "----------------\n",
      "[[486  15   9   3   1]\n",
      " [  1 332   6   1   4]\n",
      " [ 13   8 410   6   6]\n",
      " [ 19  20   4 452   5]\n",
      " [  9  42   5   5 431]]\n"
     ]
    }
   ],
   "source": [
    "# Convert the binary indicator matrices to binary classification problems\n",
    "print('Confusion Matrix:')\n",
    "print('----------------')\n",
    "print(confusion_matrix(eff_y_true_train,eff_y_predict_train))\n",
    "#for i in range(eff_y_true_train.shape[1]):\n",
    "#    class_true = eff_y_true_train[:, i]\n",
    "#    class_pred = eff_y_predict_train[:, i]\n",
    "#    tn, fp, fn, tp = confusion_matrix(class_true, class_pred).ravel()\n",
    "#    print(f\"Confusion matrix for class {i}:\")\n",
    "#    print(f\"True negatives: {tn}, False positives: {fp}, False negatives: {fn}, True positives: {tp}\")"
   ]
  },
  {
   "cell_type": "code",
   "execution_count": 42,
   "metadata": {
    "colab": {
     "base_uri": "https://localhost:8080/"
    },
    "executionInfo": {
     "elapsed": 321,
     "status": "ok",
     "timestamp": 1683579859778,
     "user": {
      "displayName": "vinutha a",
      "userId": "16189884592385199117"
     },
     "user_tz": 420
    },
    "id": "XIRrbRoMubH3",
    "outputId": "c1f16379-c352-4d50-d369-02b13910079d"
   },
   "outputs": [
    {
     "name": "stdout",
     "output_type": "stream",
     "text": [
      "Classification Report:\n",
      "----------------------\n",
      "              precision    recall  f1-score   support\n",
      "\n",
      "           0       0.92      0.95      0.93       514\n",
      "           1       0.80      0.97      0.87       344\n",
      "           2       0.94      0.93      0.94       443\n",
      "           3       0.97      0.90      0.93       500\n",
      "           4       0.96      0.88      0.92       492\n",
      "\n",
      "    accuracy                           0.92      2293\n",
      "   macro avg       0.92      0.92      0.92      2293\n",
      "weighted avg       0.93      0.92      0.92      2293\n",
      "\n"
     ]
    }
   ],
   "source": [
    "print('Classification Report:')\n",
    "print('----------------------')\n",
    "print(classification_report(eff_y_true_train,eff_y_predict_train,target_names=['0','1','2','3','4']))"
   ]
  },
  {
   "cell_type": "code",
   "execution_count": 43,
   "metadata": {
    "colab": {
     "base_uri": "https://localhost:8080/"
    },
    "executionInfo": {
     "elapsed": 12,
     "status": "ok",
     "timestamp": 1683579863060,
     "user": {
      "displayName": "vinutha a",
      "userId": "16189884592385199117"
     },
     "user_tz": 420
    },
    "id": "Qu3Eaob8fit0",
    "outputId": "ae446d3e-f020-4601-a6a4-50dae91d7a1c"
   },
   "outputs": [
    {
     "name": "stdout",
     "output_type": "stream",
     "text": [
      "accuracy score:\n",
      "---------------\n",
      "0.9206279982555604\n"
     ]
    }
   ],
   "source": [
    "print('accuracy score:')\n",
    "print('---------------')\n",
    "print(eff_racc_train)"
   ]
  },
  {
   "cell_type": "markdown",
   "metadata": {
    "id": "SIOrOrTMag9F"
   },
   "source": [
    "**VGG16**"
   ]
  },
  {
   "cell_type": "code",
   "execution_count": 44,
   "metadata": {
    "colab": {
     "base_uri": "https://localhost:8080/"
    },
    "executionInfo": {
     "elapsed": 3534,
     "status": "ok",
     "timestamp": 1683579869137,
     "user": {
      "displayName": "vinutha a",
      "userId": "16189884592385199117"
     },
     "user_tz": 420
    },
    "id": "ifQYAgCslP5j",
    "outputId": "501f4a78-8f8d-49aa-eb43-a4881bea4d2e"
   },
   "outputs": [
    {
     "name": "stdout",
     "output_type": "stream",
     "text": [
      "Downloading data from https://storage.googleapis.com/tensorflow/keras-applications/vgg16/vgg16_weights_tf_dim_ordering_tf_kernels_notop.h5\n",
      "58889256/58889256 [==============================] - 2s 0us/step\n"
     ]
    }
   ],
   "source": [
    "vinp = layers.Input(shape=(224, 224, 3)) #number of color channels (RGB)\n",
    "vimg_aug = Sequential(\n",
    "        [\n",
    "            layers.RandomZoom(0.25),\n",
    "            layers.RandomCrop(height= 200, width= 200),\n",
    "            layers.RandomRotation(factor=0.2),\n",
    "            layers.RandomTranslation(height_factor=0.1, width_factor=0.1),\n",
    "            layers.RandomFlip(),\n",
    "            layers.RandomContrast(factor=0.05),\n",
    "        ],\n",
    "        name=\"vimg_aug\",\n",
    "    )\n",
    "v_itensor = vimg_aug(vinp)\n",
    "vmodel = VGG16(include_top=False, input_tensor=v_itensor, weights= 'imagenet')\n",
    "vmodel.trainable = False"
   ]
  },
  {
   "cell_type": "code",
   "execution_count": 45,
   "metadata": {
    "executionInfo": {
     "elapsed": 278,
     "status": "ok",
     "timestamp": 1683579881581,
     "user": {
      "displayName": "vinutha a",
      "userId": "16189884592385199117"
     },
     "user_tz": 420
    },
    "id": "vPvWQiQbv2FY"
   },
   "outputs": [],
   "source": [
    "v_itensor = vmodel.output\n",
    "v_itensor = Flatten(name=\"flatten\")(v_itensor)\n",
    "v_itensor = layers.BatchNormalization()(v_itensor)\n",
    "v_itensor = layers.Dense(500, activation=\"relu\")(v_itensor)\n",
    "v_itensor = layers.Dropout(0.2, name=\"top_dropout\")(v_itensor)\n",
    "vout_layer = layers.Dense(5, activation='softmax', name=\"pred\")(v_itensor)\n",
    "vgg_model = Model(vinp,vout_layer)"
   ]
  },
  {
   "cell_type": "code",
   "execution_count": 46,
   "metadata": {
    "colab": {
     "base_uri": "https://localhost:8080/"
    },
    "executionInfo": {
     "elapsed": 77037,
     "status": "ok",
     "timestamp": 1683579969181,
     "user": {
      "displayName": "vinutha a",
      "userId": "16189884592385199117"
     },
     "user_tz": 420
    },
    "id": "2425W82OyuyG",
    "outputId": "98a1330d-6fc1-4e83-a54c-222c512998b0"
   },
   "outputs": [
    {
     "name": "stdout",
     "output_type": "stream",
     "text": [
      "Epoch 1/100\n",
      "459/459 [==============================] - 9s 14ms/step - loss: 2.5848 - accuracy: 0.5390 - val_loss: 2.7716 - val_accuracy: 0.6933\n",
      "Epoch 2/100\n",
      "459/459 [==============================] - 5s 11ms/step - loss: 0.9847 - accuracy: 0.6520 - val_loss: 2.0471 - val_accuracy: 0.7157\n",
      "Epoch 3/100\n",
      "459/459 [==============================] - 5s 11ms/step - loss: 0.9198 - accuracy: 0.6638 - val_loss: 2.0412 - val_accuracy: 0.7444\n",
      "Epoch 4/100\n",
      "459/459 [==============================] - 5s 11ms/step - loss: 0.8620 - accuracy: 0.6790 - val_loss: 1.8543 - val_accuracy: 0.7546\n",
      "Epoch 5/100\n",
      "459/459 [==============================] - 5s 11ms/step - loss: 0.8942 - accuracy: 0.6821 - val_loss: 2.1984 - val_accuracy: 0.7628\n",
      "Epoch 6/100\n",
      "459/459 [==============================] - 5s 11ms/step - loss: 0.8465 - accuracy: 0.7013 - val_loss: 2.2467 - val_accuracy: 0.7669\n",
      "Epoch 7/100\n",
      "459/459 [==============================] - 5s 11ms/step - loss: 0.8854 - accuracy: 0.6829 - val_loss: 2.2448 - val_accuracy: 0.7689\n",
      "Epoch 8/100\n",
      "459/459 [==============================] - 5s 11ms/step - loss: 0.8341 - accuracy: 0.7043 - val_loss: 2.2965 - val_accuracy: 0.7853\n",
      "Epoch 9/100\n",
      "459/459 [==============================] - 5s 11ms/step - loss: 0.8404 - accuracy: 0.6978 - val_loss: 2.3188 - val_accuracy: 0.7751\n",
      "Epoch 10/100\n",
      "459/459 [==============================] - 5s 11ms/step - loss: 0.8682 - accuracy: 0.6956 - val_loss: 2.5320 - val_accuracy: 0.7648\n",
      "Epoch 11/100\n",
      "459/459 [==============================] - 5s 11ms/step - loss: 0.8255 - accuracy: 0.7082 - val_loss: 2.5023 - val_accuracy: 0.7791\n",
      "Epoch 12/100\n",
      "459/459 [==============================] - 5s 11ms/step - loss: 0.7690 - accuracy: 0.7209 - val_loss: 2.5841 - val_accuracy: 0.7935\n",
      "Epoch 13/100\n",
      "459/459 [==============================] - 5s 12ms/step - loss: 0.8004 - accuracy: 0.7165 - val_loss: 2.5575 - val_accuracy: 0.8139\n",
      "Epoch 14/100\n",
      "455/459 [============================>.] - ETA: 0s - loss: 0.7743 - accuracy: 0.7204Restoring model weights from the end of the best epoch: 4.\n",
      "459/459 [==============================] - 5s 11ms/step - loss: 0.7754 - accuracy: 0.7191 - val_loss: 2.5470 - val_accuracy: 0.8057\n",
      "Epoch 14: early stopping\n"
     ]
    }
   ],
   "source": [
    "vgg_adam = tf.keras.optimizers.Adam(learning_rate=0.001)\n",
    "vgg_model.compile(optimizer= vgg_adam, loss='categorical_crossentropy', metrics=['accuracy']) \n",
    "result_vgg = vgg_model.fit(train_data, epochs=100,validation_data=val_data, callbacks= tf.keras.callbacks.EarlyStopping(monitor='val_loss', patience=10, mode='min', verbose=2, restore_best_weights=True))"
   ]
  },
  {
   "cell_type": "code",
   "execution_count": 47,
   "metadata": {
    "executionInfo": {
     "elapsed": 680,
     "status": "ok",
     "timestamp": 1683580001086,
     "user": {
      "displayName": "vinutha a",
      "userId": "16189884592385199117"
     },
     "user_tz": 420
    },
    "id": "WxOOU2uN12fj"
   },
   "outputs": [],
   "source": [
    "vgg_training_accuracy = result_vgg.history[\"accuracy\"]\n",
    "vgg_training_loss = []\n",
    "for accuracy in vgg_training_accuracy:\n",
    "  vgg_training_loss.append(1-accuracy)\n",
    "vgg_validation_accuracy = result_vgg.history[\"val_accuracy\"]\n",
    "vgg_validation_loss = []\n",
    "for accuracy in vgg_validation_accuracy:\n",
    "  vgg_validation_loss.append(1-accuracy)"
   ]
  },
  {
   "cell_type": "code",
   "execution_count": 48,
   "metadata": {
    "colab": {
     "base_uri": "https://localhost:8080/",
     "height": 472
    },
    "executionInfo": {
     "elapsed": 454,
     "status": "ok",
     "timestamp": 1683580003534,
     "user": {
      "displayName": "vinutha a",
      "userId": "16189884592385199117"
     },
     "user_tz": 420
    },
    "id": "BRKhPEehztSV",
    "outputId": "850ca84a-8284-45a5-b0dc-45f0ca414499"
   },
   "outputs": [
    {
     "data": {
      "image/png": "[encoded data removed]",
      "text/plain": [
       "<Figure size 640x480 with 1 Axes>"
      ]
     },
     "metadata": {},
     "output_type": "display_data"
    }
   ],
   "source": [
    "plt.plot(vgg_training_loss, label='Training error')\n",
    "plt.plot(vgg_validation_loss, label = 'Validation error')\n",
    "plt.title(\"Training & validation errors v/s epochs\")\n",
    "plt.ylabel(\"Loss\")\n",
    "plt.xlabel(\"Epoch\")\n",
    "plt.legend([\"Training loss\", \"Validation Loss\"], loc=\"upper right\")\n",
    "plt.show()"
   ]
  },
  {
   "cell_type": "markdown",
   "metadata": {
    "id": "h2kLhIJJLU1P"
   },
   "source": [
    "**TEST**"
   ]
  },
  {
   "cell_type": "code",
   "execution_count": 49,
   "metadata": {
    "colab": {
     "base_uri": "https://localhost:8080/"
    },
    "executionInfo": {
     "elapsed": 2231,
     "status": "ok",
     "timestamp": 1683580009388,
     "user": {
      "displayName": "vinutha a",
      "userId": "16189884592385199117"
     },
     "user_tz": 420
    },
    "id": "Qju7sRx_2Gs9",
    "outputId": "ef709e81-8389-4afd-c1cb-b4132e71a80d"
   },
   "outputs": [
    {
     "name": "stdout",
     "output_type": "stream",
     "text": [
      "16/16 [==============================] - 2s 50ms/step\n"
     ]
    }
   ],
   "source": [
    "vgg_y_pred = vgg_model.predict(test_x)\n",
    "vgg_y_predict = np.argmax(vgg_y_pred,axis=1)\n",
    "vgg_y_true = np.argmax(test_labels,axis=1)\n",
    "vgg_racc = accuracy_score(vgg_y_true,vgg_y_predict)"
   ]
  },
  {
   "cell_type": "code",
   "execution_count": 50,
   "metadata": {
    "colab": {
     "base_uri": "https://localhost:8080/"
    },
    "executionInfo": {
     "elapsed": 496,
     "status": "ok",
     "timestamp": 1683580012259,
     "user": {
      "displayName": "vinutha a",
      "userId": "16189884592385199117"
     },
     "user_tz": 420
    },
    "id": "N5ChfKPz_ztr",
    "outputId": "7cb65129-591f-4c43-f255-c0c23d5ba39f"
   },
   "outputs": [
    {
     "name": "stdout",
     "output_type": "stream",
     "text": [
      "Confusion Matrix:\n",
      "----------------\n",
      "[[88  8  5  7  3]\n",
      " [ 4 60  3  2  6]\n",
      " [ 5  2 73  9  7]\n",
      " [11  3  6 82  6]\n",
      " [ 8  5 11  2 81]]\n"
     ]
    }
   ],
   "source": [
    "# Convert the binary indicator matrices to binary classification problems\n",
    "print('Confusion Matrix:')\n",
    "print('----------------')\n",
    "print(confusion_matrix(vgg_y_true,vgg_y_predict))\n",
    "#for i in range(vgg_y_true.shape[1]):\n",
    "#    class_true = vgg_y_true[:, i]\n",
    "#    class_pred = vgg_y_predict[:, i]\n",
    "#    tn, fp, fn, tp = confusion_matrix(class_true, class_pred).ravel()\n",
    "#    print(f\"Confusion matrix for class {i}:\")\n",
    "#    print(f\"True negatives: {tn}, False positives: {fp}, False negatives: {fn}, True positives: {tp}\")"
   ]
  },
  {
   "cell_type": "code",
   "execution_count": 51,
   "metadata": {
    "colab": {
     "base_uri": "https://localhost:8080/"
    },
    "executionInfo": {
     "elapsed": 287,
     "status": "ok",
     "timestamp": 1683580016160,
     "user": {
      "displayName": "vinutha a",
      "userId": "16189884592385199117"
     },
     "user_tz": 420
    },
    "id": "YqCqm7W3_6_0",
    "outputId": "081de5e2-3967-48d3-d7c2-865e707affb5"
   },
   "outputs": [
    {
     "name": "stdout",
     "output_type": "stream",
     "text": [
      "Classification Report:\n",
      "----------------------\n",
      "              precision    recall  f1-score   support\n",
      "\n",
      "           0       0.76      0.79      0.78       111\n",
      "           1       0.77      0.80      0.78        75\n",
      "           2       0.74      0.76      0.75        96\n",
      "           3       0.80      0.76      0.78       108\n",
      "           4       0.79      0.76      0.77       107\n",
      "\n",
      "    accuracy                           0.77       497\n",
      "   macro avg       0.77      0.77      0.77       497\n",
      "weighted avg       0.77      0.77      0.77       497\n",
      "\n"
     ]
    }
   ],
   "source": [
    "print('Classification Report:')\n",
    "print('----------------------')\n",
    "print(classification_report(vgg_y_true,vgg_y_predict,target_names=['0','1','2','3','4']))"
   ]
  },
  {
   "cell_type": "code",
   "execution_count": 52,
   "metadata": {
    "colab": {
     "base_uri": "https://localhost:8080/"
    },
    "executionInfo": {
     "elapsed": 14,
     "status": "ok",
     "timestamp": 1683580020057,
     "user": {
      "displayName": "vinutha a",
      "userId": "16189884592385199117"
     },
     "user_tz": 420
    },
    "id": "2agOAYun_7CP",
    "outputId": "31928d15-0994-479e-8677-83f6b80a331a"
   },
   "outputs": [
    {
     "name": "stdout",
     "output_type": "stream",
     "text": [
      "accuracy score:\n",
      "---------------\n",
      "0.772635814889336\n"
     ]
    }
   ],
   "source": [
    "print('accuracy score:')\n",
    "print('---------------')\n",
    "print(vgg_racc)"
   ]
  },
  {
   "cell_type": "markdown",
   "metadata": {
    "id": "L0cQLRSiAPKW"
   },
   "source": [
    "**TRAINING MODEL METRICS**"
   ]
  },
  {
   "cell_type": "code",
   "execution_count": 53,
   "metadata": {
    "colab": {
     "base_uri": "https://localhost:8080/"
    },
    "executionInfo": {
     "elapsed": 2571,
     "status": "ok",
     "timestamp": 1683580026183,
     "user": {
      "displayName": "vinutha a",
      "userId": "16189884592385199117"
     },
     "user_tz": 420
    },
    "id": "0EzAl5SY_7HR",
    "outputId": "8f8444d1-a89e-4bed-9f1f-bbec84495db0"
   },
   "outputs": [
    {
     "name": "stdout",
     "output_type": "stream",
     "text": [
      "72/72 [==============================] - 2s 27ms/step\n"
     ]
    }
   ],
   "source": [
    "vgg_y_pred_train = vgg_model.predict(training_x)\n",
    "vgg_y_predict_train = np.argmax(vgg_y_pred_train,axis=1)\n",
    "vgg_y_true_train = np.argmax(training_labels,axis=1)\n",
    "vgg_racc_train = accuracy_score(vgg_y_true_train,vgg_y_predict_train)"
   ]
  },
  {
   "cell_type": "code",
   "execution_count": 54,
   "metadata": {
    "colab": {
     "base_uri": "https://localhost:8080/"
    },
    "executionInfo": {
     "elapsed": 530,
     "status": "ok",
     "timestamp": 1683580028862,
     "user": {
      "displayName": "vinutha a",
      "userId": "16189884592385199117"
     },
     "user_tz": 420
    },
    "id": "Lwek6k_F_7J1",
    "outputId": "f9d14edf-41c3-439a-d094-fb57dd090b03"
   },
   "outputs": [
    {
     "name": "stdout",
     "output_type": "stream",
     "text": [
      "Confusion Matrix:\n",
      "----------------\n",
      "[[448  13  23  23   7]\n",
      " [ 13 293  10   8  20]\n",
      " [ 37  10 360  20  16]\n",
      " [ 55  10  17 408  10]\n",
      " [ 25  30  25  17 395]]\n"
     ]
    }
   ],
   "source": [
    "# Convert the binary indicator matrices to binary classification problems\n",
    "print('Confusion Matrix:')\n",
    "print('----------------')\n",
    "print(confusion_matrix(vgg_y_true_train,vgg_y_predict_train))\n",
    "#for i in range(vgg_y_true_train.shape[1]):\n",
    "#    class_true = vgg_y_true_train[:, i]\n",
    "#    class_pred = vgg_y_predict_train[:, i]\n",
    "#    tn, fp, fn, tp = confusion_matrix(class_true, class_pred).ravel()\n",
    "#    print(f\"Confusion matrix for class {i}:\")\n",
    "#    print(f\"True negatives: {tn}, False positives: {fp}, False negatives: {fn}, True positives: {tp}\")"
   ]
  },
  {
   "cell_type": "code",
   "execution_count": 55,
   "metadata": {
    "colab": {
     "base_uri": "https://localhost:8080/"
    },
    "executionInfo": {
     "elapsed": 430,
     "status": "ok",
     "timestamp": 1683580032460,
     "user": {
      "displayName": "vinutha a",
      "userId": "16189884592385199117"
     },
     "user_tz": 420
    },
    "id": "qOzuWK2g_7Mt",
    "outputId": "6c9022d4-1ded-48b4-dff2-25ab7cdaaa6e"
   },
   "outputs": [
    {
     "name": "stdout",
     "output_type": "stream",
     "text": [
      "Classification Report:\n",
      "----------------------\n",
      "              precision    recall  f1-score   support\n",
      "\n",
      "           0       0.78      0.87      0.82       514\n",
      "           1       0.82      0.85      0.84       344\n",
      "           2       0.83      0.81      0.82       443\n",
      "           3       0.86      0.82      0.84       500\n",
      "           4       0.88      0.80      0.84       492\n",
      "\n",
      "    accuracy                           0.83      2293\n",
      "   macro avg       0.83      0.83      0.83      2293\n",
      "weighted avg       0.83      0.83      0.83      2293\n",
      "\n"
     ]
    }
   ],
   "source": [
    "print('Classification Report:')\n",
    "print('----------------------')\n",
    "print(classification_report(vgg_y_true_train,vgg_y_predict_train,target_names=['0','1','2','3','4']))"
   ]
  },
  {
   "cell_type": "code",
   "execution_count": 56,
   "metadata": {
    "colab": {
     "base_uri": "https://localhost:8080/"
    },
    "executionInfo": {
     "elapsed": 378,
     "status": "ok",
     "timestamp": 1683580040313,
     "user": {
      "displayName": "vinutha a",
      "userId": "16189884592385199117"
     },
     "user_tz": 420
    },
    "id": "PCYQPtIP_7PV",
    "outputId": "1f223193-c369-4779-d957-60bdc4d7e593"
   },
   "outputs": [
    {
     "name": "stdout",
     "output_type": "stream",
     "text": [
      "accuracy score:\n",
      "---------------\n",
      "0.8303532490187527\n"
     ]
    }
   ],
   "source": [
    "print('accuracy score:')\n",
    "print('---------------')\n",
    "print(vgg_racc_train)"
   ]
  },
  {
   "cell_type": "markdown",
   "metadata": {
    "id": "5Uzw2xKYm1pI"
   },
   "source": [
    "**Video Classification Using Moving Averages**"
   ]
  },
  {
   "cell_type": "code",
   "execution_count": 57,
   "metadata": {
    "executionInfo": {
     "elapsed": 515,
     "status": "ok",
     "timestamp": 1683580044005,
     "user": {
      "displayName": "vinutha a",
      "userId": "16189884592385199117"
     },
     "user_tz": 420
    },
    "id": "p2LpHPTO8ZCN"
   },
   "outputs": [],
   "source": [
    "import cv2"
   ]
  },
  {
   "cell_type": "code",
   "execution_count": 58,
   "metadata": {
    "colab": {
     "base_uri": "https://localhost:8080/",
     "height": 35
    },
    "executionInfo": {
     "elapsed": 322,
     "status": "ok",
     "timestamp": 1683580045650,
     "user": {
      "displayName": "vinutha a",
      "userId": "16189884592385199117"
     },
     "user_tz": 420
    },
    "id": "G-d1r74J8bFW",
    "outputId": "1f977b08-feee-49c9-c396-259a6735cf05"
   },
   "outputs": [
    {
     "data": {
      "application/vnd.google.colaboratory.intrinsic+json": {
       "type": "string"
      },
      "text/plain": [
       "'/content/drive/MyDrive/Colab Notebooks/ML Project/Data/Sport Images'"
      ]
     },
     "execution_count": 58,
     "metadata": {},
     "output_type": "execute_result"
    }
   ],
   "source": [
    "os.getcwd()"
   ]
  },
  {
   "cell_type": "code",
   "execution_count": 59,
   "metadata": {
    "executionInfo": {
     "elapsed": 4,
     "status": "ok",
     "timestamp": 1683580047604,
     "user": {
      "displayName": "vinutha a",
      "userId": "16189884592385199117"
     },
     "user_tz": 420
    },
    "id": "3bYk0QBS8iW5"
   },
   "outputs": [],
   "source": [
    "os.chdir('/content/drive/MyDrive/Colab Notebooks/ML Project/Data/Sport Videos')"
   ]
  },
  {
   "cell_type": "code",
   "execution_count": 60,
   "metadata": {
    "colab": {
     "base_uri": "https://localhost:8080/",
     "height": 35
    },
    "executionInfo": {
     "elapsed": 24,
     "status": "ok",
     "timestamp": 1683580048943,
     "user": {
      "displayName": "vinutha a",
      "userId": "16189884592385199117"
     },
     "user_tz": 420
    },
    "id": "TDACSBDG8-9v",
    "outputId": "51656fb3-f39c-4754-80bd-d4a6c04f75e9"
   },
   "outputs": [
    {
     "data": {
      "application/vnd.google.colaboratory.intrinsic+json": {
       "type": "string"
      },
      "text/plain": [
       "'/content/drive/MyDrive/Colab Notebooks/ML Project/Data/Sport Videos'"
      ]
     },
     "execution_count": 60,
     "metadata": {},
     "output_type": "execute_result"
    }
   ],
   "source": [
    "os.getcwd()"
   ]
  },
  {
   "cell_type": "code",
   "execution_count": 61,
   "metadata": {
    "executionInfo": {
     "elapsed": 2877,
     "status": "ok",
     "timestamp": 1683580055065,
     "user": {
      "displayName": "vinutha a",
      "userId": "16189884592385199117"
     },
     "user_tz": 420
    },
    "id": "h2sSkGMo9hV1"
   },
   "outputs": [],
   "source": [
    "vid_library = {}\n",
    "current = os.getcwd() + '/'\n",
    "vid_labels = ['BaseballPitch','Basketball','Fencing','TennisSwing','VolleyballSpiking']\n",
    "folder_map = {'BaseballPitch':'baseball','Basketball':'basketball','Fencing':'fencing','TennisSwing':'tennis','VolleyballSpiking':'volleyball'}\n",
    "for folder,subfolder,f in os.walk(current):\n",
    "    if len(subfolder) > 0:\n",
    "      for sub in subfolder:\n",
    "        fpath = current + sub\n",
    "        files = os.listdir(fpath)\n",
    "        vid_library[sub] = list(map(lambda x: fpath+'/'+x,files))"
   ]
  },
  {
   "cell_type": "code",
   "execution_count": 62,
   "metadata": {
    "executionInfo": {
     "elapsed": 216701,
     "status": "ok",
     "timestamp": 1683580283012,
     "user": {
      "displayName": "vinutha a",
      "userId": "16189884592385199117"
     },
     "user_tz": 420
    },
    "id": "KIrnvMQz9hi6"
   },
   "outputs": [],
   "source": [
    "vid_frame = {}\n",
    "L = 100\n",
    "frame_map = {}\n",
    "failure = {}\n",
    "for key,value in vid_library.items():\n",
    "  for vid in value:\n",
    "    frames = []\n",
    "    vcap = cv2.VideoCapture(vid)\n",
    "    tot_frame = int(vcap.get(cv2.CAP_PROP_FRAME_COUNT))\n",
    "    if tot_frame<=L:\n",
    "      L=tot_frame\n",
    "    count = 0\n",
    "    while vcap.isOpened():\n",
    "        success, frame = vcap.read()\n",
    "        if not success:\n",
    "          if failure.get(key) == None:\n",
    "            failure[key] = [vid]\n",
    "          else:\n",
    "            failure.get(key).append(vid)\n",
    "          break\n",
    "        processed_frame = cv2.resize(frame,(224,224))\n",
    "        processed_frame = np.expand_dims(processed_frame, axis=0)\n",
    "        if frame_map.get(key) == None:\n",
    "          frame_map[key] = [processed_frame]\n",
    "        else:\n",
    "          frame_map.get(key).append(processed_frame)\n",
    "        if vid_frame.get(vid) == None:\n",
    "          vid_frame[vid] = [processed_frame]\n",
    "        else:\n",
    "          vid_frame.get(vid).append(processed_frame)\n",
    "        count += 1\n",
    "        if count == L:\n",
    "          break\n",
    "    vcap.release()"
   ]
  },
  {
   "cell_type": "code",
   "execution_count": 64,
   "metadata": {
    "colab": {
     "base_uri": "https://localhost:8080/"
    },
    "executionInfo": {
     "elapsed": 12,
     "status": "ok",
     "timestamp": 1683580325957,
     "user": {
      "displayName": "vinutha a",
      "userId": "16189884592385199117"
     },
     "user_tz": 420
    },
    "id": "qRnpnN22Tin-",
    "outputId": "9c7d70fe-c4b0-41f8-e536-ee6be1b4c27a"
   },
   "outputs": [
    {
     "data": {
      "text/plain": [
       "681"
      ]
     },
     "execution_count": 64,
     "metadata": {},
     "output_type": "execute_result"
    }
   ],
   "source": [
    "len(vid_frame.keys())"
   ]
  },
  {
   "cell_type": "code",
   "execution_count": 65,
   "metadata": {
    "executionInfo": {
     "elapsed": 344,
     "status": "ok",
     "timestamp": 1683580335082,
     "user": {
      "displayName": "vinutha a",
      "userId": "16189884592385199117"
     },
     "user_tz": 420
    },
    "id": "CvRWz1l7DiX8"
   },
   "outputs": [],
   "source": [
    "import imageio\n",
    "from skimage.transform import resize\n",
    "L = 100\n",
    "flag = True\n",
    "if len(failure) != 0:\n",
    "  for key,value in failure.items():\n",
    "    for vid in value:\n",
    "      video = imageio.get_reader(vid)\n",
    "      fps = video.get_meta_data()['fps']\n",
    "      duration = video.get_meta_data()['duration']\n",
    "      num_frames = int(duration * fps)\n",
    "      if video == None:\n",
    "        break\n",
    "      if num_frames <= L:\n",
    "        for i in range(0,num_frames):\n",
    "          frame = video.get_data(i)\n",
    "          resized_frame = resize(frame, (224, 224))\n",
    "          frame_uint8 = (resized_frame * 255).astype(np.uint8)\n",
    "          frame_uint8 = np.expand_dims(frame_uint8,axis=0)\n",
    "          if frame_map.get(key) == None:\n",
    "            frame_map[key] = [frame_uint8]\n",
    "          else:\n",
    "            frame_map.get(key).append(frame_uint8)\n",
    "          if vid_frame.get(vid) == None:\n",
    "            vid_frame[vid] = [frame_uint8]\n",
    "          else:\n",
    "            vid_frame.get(vid).append(frame_uint8)\n",
    "      else:\n",
    "        section = int(num_frames/L)\n",
    "        count = 0\n",
    "        for i in range(0,num_frames):\n",
    "          if i % section == 1:\n",
    "            frame = video.get_data(i)\n",
    "            resized_frame = resize(frame,(224,224))\n",
    "            frame_uint8 = (resized_frame * 255).astype(np.uint8)\n",
    "            frame_uint8 = np.expand_dims(frame_uint8,axis=0)\n",
    "            if frame_map.get(key) == None:\n",
    "              frame_map[key] == [frame_uint8]\n",
    "            else:\n",
    "              frame_map.get(key).append(frame_uint8)\n",
    "            if vid_frame.get(vid) == None:\n",
    "              vid_frame[vid] = [frame_uint8]\n",
    "            else:\n",
    "              vid_frame.get(vid).append(frame_uint8)\n",
    "      video.close()"
   ]
  },
  {
   "cell_type": "code",
   "execution_count": 66,
   "metadata": {
    "executionInfo": {
     "elapsed": 873,
     "status": "ok",
     "timestamp": 1683580340472,
     "user": {
      "displayName": "vinutha a",
      "userId": "16189884592385199117"
     },
     "user_tz": 420
    },
    "id": "fniZN4pWpLsQ"
   },
   "outputs": [],
   "source": [
    "new_train_data = val_data.concatenate(test_data)"
   ]
  },
  {
   "cell_type": "code",
   "execution_count": 67,
   "metadata": {
    "executionInfo": {
     "elapsed": 3,
     "status": "ok",
     "timestamp": 1683580342733,
     "user": {
      "displayName": "vinutha a",
      "userId": "16189884592385199117"
     },
     "user_tz": 420
    },
    "id": "VzeRgR0JsDeL"
   },
   "outputs": [],
   "source": [
    "early_stop = EarlyStopping(monitor='loss',patience=10,mode='min', verbose=1, restore_best_weights=True)"
   ]
  },
  {
   "cell_type": "markdown",
   "metadata": {
    "id": "YLSH7PBRn7c3"
   },
   "source": [
    "**ResNet50**"
   ]
  },
  {
   "cell_type": "code",
   "execution_count": 68,
   "metadata": {
    "executionInfo": {
     "elapsed": 956,
     "status": "ok",
     "timestamp": 1683580348880,
     "user": {
      "displayName": "vinutha a",
      "userId": "16189884592385199117"
     },
     "user_tz": 420
    },
    "id": "tYX1baLB1QxQ"
   },
   "outputs": [],
   "source": [
    "keras.models.save_model(resnet, 'resnet50.hdf5')"
   ]
  },
  {
   "cell_type": "code",
   "execution_count": 69,
   "metadata": {
    "colab": {
     "base_uri": "https://localhost:8080/"
    },
    "executionInfo": {
     "elapsed": 75062,
     "status": "ok",
     "timestamp": 1683580425903,
     "user": {
      "displayName": "vinutha a",
      "userId": "16189884592385199117"
     },
     "user_tz": 420
    },
    "id": "v_Kfemy1msqg",
    "outputId": "b1cb5452-558f-4e06-e82f-c1de74cafa1f"
   },
   "outputs": [
    {
     "name": "stdout",
     "output_type": "stream",
     "text": [
      "Epoch 1/100\n",
      "198/198 [==============================] - 6s 16ms/step - loss: 3.9735 - accuracy: 0.5720\n",
      "Epoch 2/100\n",
      "198/198 [==============================] - 3s 13ms/step - loss: 3.6644 - accuracy: 0.6085\n",
      "Epoch 3/100\n",
      "198/198 [==============================] - 3s 13ms/step - loss: 3.1728 - accuracy: 0.6410\n",
      "Epoch 4/100\n",
      "198/198 [==============================] - 3s 13ms/step - loss: 3.4761 - accuracy: 0.6146\n",
      "Epoch 5/100\n",
      "198/198 [==============================] - 3s 13ms/step - loss: 3.3841 - accuracy: 0.5832\n",
      "Epoch 6/100\n",
      "198/198 [==============================] - 3s 13ms/step - loss: 2.9715 - accuracy: 0.6136\n",
      "Epoch 7/100\n",
      "198/198 [==============================] - 3s 13ms/step - loss: 2.8208 - accuracy: 0.6349\n",
      "Epoch 8/100\n",
      "198/198 [==============================] - 3s 13ms/step - loss: 3.4873 - accuracy: 0.5963\n",
      "Epoch 9/100\n",
      "198/198 [==============================] - 3s 13ms/step - loss: 2.7686 - accuracy: 0.6217\n",
      "Epoch 10/100\n",
      "198/198 [==============================] - 3s 12ms/step - loss: 2.7901 - accuracy: 0.6450\n",
      "Epoch 11/100\n",
      "198/198 [==============================] - 3s 12ms/step - loss: 3.3488 - accuracy: 0.5933\n",
      "Epoch 12/100\n",
      "198/198 [==============================] - 3s 13ms/step - loss: 2.7425 - accuracy: 0.6207\n",
      "Epoch 13/100\n",
      "198/198 [==============================] - 3s 13ms/step - loss: 2.8083 - accuracy: 0.6359\n",
      "Epoch 14/100\n",
      "198/198 [==============================] - 3s 13ms/step - loss: 2.6033 - accuracy: 0.6511\n",
      "Epoch 15/100\n",
      "198/198 [==============================] - 3s 12ms/step - loss: 2.8469 - accuracy: 0.6166\n",
      "Epoch 16/100\n",
      "198/198 [==============================] - 3s 12ms/step - loss: 2.8109 - accuracy: 0.6349\n",
      "Epoch 17/100\n",
      "198/198 [==============================] - 3s 13ms/step - loss: 2.3441 - accuracy: 0.6653\n",
      "Epoch 18/100\n",
      "198/198 [==============================] - 3s 13ms/step - loss: 2.6955 - accuracy: 0.6389\n",
      "Epoch 19/100\n",
      "198/198 [==============================] - 3s 13ms/step - loss: 2.6058 - accuracy: 0.6531\n",
      "Epoch 20/100\n",
      "198/198 [==============================] - 3s 12ms/step - loss: 2.7057 - accuracy: 0.6217\n",
      "Epoch 21/100\n",
      "198/198 [==============================] - 3s 13ms/step - loss: 2.3241 - accuracy: 0.6765\n",
      "Epoch 22/100\n",
      "198/198 [==============================] - 3s 13ms/step - loss: 2.3340 - accuracy: 0.6744\n",
      "Epoch 23/100\n",
      "198/198 [==============================] - 3s 13ms/step - loss: 2.4999 - accuracy: 0.6582\n",
      "Epoch 24/100\n",
      "198/198 [==============================] - 3s 13ms/step - loss: 3.0041 - accuracy: 0.6247\n",
      "Epoch 25/100\n",
      "198/198 [==============================] - 3s 13ms/step - loss: 2.3478 - accuracy: 0.6623\n",
      "Epoch 26/100\n",
      "197/198 [============================>.] - ETA: 0s - loss: 2.3651 - accuracy: 0.6890Restoring model weights from the end of the best epoch: 21.\n",
      "198/198 [==============================] - 3s 14ms/step - loss: 2.3605 - accuracy: 0.6897\n",
      "Epoch 26: early stopping\n"
     ]
    }
   ],
   "source": [
    "video_resnet = keras.models.load_model('resnet50.hdf5')\n",
    "vid_rn = video_resnet.fit(new_train_data, epochs=100,callbacks=[early_stop])"
   ]
  },
  {
   "cell_type": "code",
   "execution_count": 70,
   "metadata": {
    "executionInfo": {
     "elapsed": 2156917,
     "status": "ok",
     "timestamp": 1683582593843,
     "user": {
      "displayName": "vinutha a",
      "userId": "16189884592385199117"
     },
     "user_tz": 420
    },
    "id": "YxI2MavIRV7D"
   },
   "outputs": [],
   "source": [
    "result = []\n",
    "for video,frames in vid_frame.items():\n",
    "  tempo = []\n",
    "  class_0 = []\n",
    "  class_1 = []\n",
    "  class_2 = []\n",
    "  class_3 = []\n",
    "  class_4 = []\n",
    "  for f in frames:\n",
    "    y_pred = video_resnet.predict(f,verbose=0)\n",
    "    class_0.append(y_pred[0][0])\n",
    "    class_1.append(y_pred[0][1])\n",
    "    class_2.append(y_pred[0][2])\n",
    "    class_3.append(y_pred[0][3])\n",
    "    class_4.append(y_pred[0][4])\n",
    "  rolling_average1 = pd.Series(np.array(class_0)).rolling(window=2).mean()\n",
    "  rolling_average2 = pd.Series(np.array(class_1)).rolling(window=2).mean()\n",
    "  rolling_average3 = pd.Series(np.array(class_2)).rolling(window=2).mean()\n",
    "  rolling_average4 = pd.Series(np.array(class_3)).rolling(window=2).mean()\n",
    "  rolling_average5 = pd.Series(np.array(class_4)).rolling(window=2).mean()\n",
    "  tempo.append(rolling_average1[np.argmax(rolling_average1,axis=0)])\n",
    "  tempo.append(rolling_average2[np.argmax(rolling_average2,axis=0)])\n",
    "  tempo.append(rolling_average3[np.argmax(rolling_average3,axis=0)])\n",
    "  tempo.append(rolling_average4[np.argmax(rolling_average4,axis=0)])\n",
    "  tempo.append(rolling_average5[np.argmax(rolling_average5,axis=0)])\n",
    "  result.append([video,np.argmax(tempo,axis=0)])"
   ]
  },
  {
   "cell_type": "code",
   "execution_count": 71,
   "metadata": {
    "executionInfo": {
     "elapsed": 4,
     "status": "ok",
     "timestamp": 1683582610898,
     "user": {
      "displayName": "vinutha a",
      "userId": "16189884592385199117"
     },
     "user_tz": 420
    },
    "id": "jhx1bsoarGW6"
   },
   "outputs": [],
   "source": [
    "result_df = pd.DataFrame(result,columns=['video','class'])"
   ]
  },
  {
   "cell_type": "code",
   "execution_count": null,
   "metadata": {
    "id": "mN0slVQDrHen"
   },
   "outputs": [],
   "source": [
    "result_df.to_csv('file1.csv')"
   ]
  },
  {
   "cell_type": "code",
   "execution_count": 72,
   "metadata": {
    "colab": {
     "base_uri": "https://localhost:8080/",
     "height": 423
    },
    "executionInfo": {
     "elapsed": 638,
     "status": "ok",
     "timestamp": 1683582614735,
     "user": {
      "displayName": "vinutha a",
      "userId": "16189884592385199117"
     },
     "user_tz": 420
    },
    "id": "XoUlq_wp3dIA",
    "outputId": "6daa8ebf-b11e-4739-ee82-a7a810c8aae8"
   },
   "outputs": [
    {
     "data": {
      "text/html": [
       "\n",
       "  <div id=\"df-ba418636-fa92-44ba-b0af-5beffd31a692\">\n",
       "    <div class=\"colab-df-container\">\n",
       "      <div>\n",
       "<style scoped>\n",
       "    .dataframe tbody tr th:only-of-type {\n",
       "        vertical-align: middle;\n",
       "    }\n",
       "\n",
       "    .dataframe tbody tr th {\n",
       "        vertical-align: top;\n",
       "    }\n",
       "\n",
       "    .dataframe thead th {\n",
       "        text-align: right;\n",
       "    }\n",
       "</style>\n",
       "<table border=\"1\" class=\"dataframe\">\n",
       "  <thead>\n",
       "    <tr style=\"text-align: right;\">\n",
       "      <th></th>\n",
       "      <th>video</th>\n",
       "      <th>class</th>\n",
       "    </tr>\n",
       "  </thead>\n",
       "  <tbody>\n",
       "    <tr>\n",
       "      <th>0</th>\n",
       "      <td>/content/drive/MyDrive/Colab Notebooks/ML Proj...</td>\n",
       "      <td>2</td>\n",
       "    </tr>\n",
       "    <tr>\n",
       "      <th>1</th>\n",
       "      <td>/content/drive/MyDrive/Colab Notebooks/ML Proj...</td>\n",
       "      <td>2</td>\n",
       "    </tr>\n",
       "    <tr>\n",
       "      <th>2</th>\n",
       "      <td>/content/drive/MyDrive/Colab Notebooks/ML Proj...</td>\n",
       "      <td>2</td>\n",
       "    </tr>\n",
       "    <tr>\n",
       "      <th>3</th>\n",
       "      <td>/content/drive/MyDrive/Colab Notebooks/ML Proj...</td>\n",
       "      <td>2</td>\n",
       "    </tr>\n",
       "    <tr>\n",
       "      <th>4</th>\n",
       "      <td>/content/drive/MyDrive/Colab Notebooks/ML Proj...</td>\n",
       "      <td>2</td>\n",
       "    </tr>\n",
       "    <tr>\n",
       "      <th>...</th>\n",
       "      <td>...</td>\n",
       "      <td>...</td>\n",
       "    </tr>\n",
       "    <tr>\n",
       "      <th>676</th>\n",
       "      <td>/content/drive/MyDrive/Colab Notebooks/ML Proj...</td>\n",
       "      <td>2</td>\n",
       "    </tr>\n",
       "    <tr>\n",
       "      <th>677</th>\n",
       "      <td>/content/drive/MyDrive/Colab Notebooks/ML Proj...</td>\n",
       "      <td>2</td>\n",
       "    </tr>\n",
       "    <tr>\n",
       "      <th>678</th>\n",
       "      <td>/content/drive/MyDrive/Colab Notebooks/ML Proj...</td>\n",
       "      <td>2</td>\n",
       "    </tr>\n",
       "    <tr>\n",
       "      <th>679</th>\n",
       "      <td>/content/drive/MyDrive/Colab Notebooks/ML Proj...</td>\n",
       "      <td>2</td>\n",
       "    </tr>\n",
       "    <tr>\n",
       "      <th>680</th>\n",
       "      <td>/content/drive/MyDrive/Colab Notebooks/ML Proj...</td>\n",
       "      <td>2</td>\n",
       "    </tr>\n",
       "  </tbody>\n",
       "</table>\n",
       "<p>681 rows × 2 columns</p>\n",
       "</div>\n",
       "      <button class=\"colab-df-convert\" onclick=\"convertToInteractive('df-ba418636-fa92-44ba-b0af-5beffd31a692')\"\n",
       "              title=\"Convert this dataframe to an interactive table.\"\n",
       "              style=\"display:none;\">\n",
       "        \n",
       "  <svg xmlns=\"http://www.w3.org/2000/svg\" height=\"24px\"viewBox=\"0 0 24 24\"\n",
       "       width=\"24px\">\n",
       "    <path d=\"M0 0h24v24H0V0z\" fill=\"none\"/>\n",
       "    <path d=\"M18.56 5.44l.94 2.06.94-2.06 2.06-.94-2.06-.94-.94-2.06-.94 2.06-2.06.94zm-11 1L8.5 8.5l.94-2.06 2.06-.94-2.06-.94L8.5 2.5l-.94 2.06-2.06.94zm10 10l.94 2.06.94-2.06 2.06-.94-2.06-.94-.94-2.06-.94 2.06-2.06.94z\"/><path d=\"M17.41 7.96l-1.37-1.37c-.4-.4-.92-.59-1.43-.59-.52 0-1.04.2-1.43.59L10.3 9.45l-7.72 7.72c-.78.78-.78 2.05 0 2.83L4 21.41c.39.39.9.59 1.41.59.51 0 1.02-.2 1.41-.59l7.78-7.78 2.81-2.81c.8-.78.8-2.07 0-2.86zM5.41 20L4 18.59l7.72-7.72 1.47 1.35L5.41 20z\"/>\n",
       "  </svg>\n",
       "      </button>\n",
       "      \n",
       "  <style>\n",
       "    .colab-df-container {\n",
       "      display:flex;\n",
       "      flex-wrap:wrap;\n",
       "      gap: 12px;\n",
       "    }\n",
       "\n",
       "    .colab-df-convert {\n",
       "      background-color: #E8F0FE;\n",
       "      border: none;\n",
       "      border-radius: 50%;\n",
       "      cursor: pointer;\n",
       "      display: none;\n",
       "      fill: #1967D2;\n",
       "      height: 32px;\n",
       "      padding: 0 0 0 0;\n",
       "      width: 32px;\n",
       "    }\n",
       "\n",
       "    .colab-df-convert:hover {\n",
       "      background-color: #E2EBFA;\n",
       "      box-shadow: 0px 1px 2px rgba(60, 64, 67, 0.3), 0px 1px 3px 1px rgba(60, 64, 67, 0.15);\n",
       "      fill: #174EA6;\n",
       "    }\n",
       "\n",
       "    [theme=dark] .colab-df-convert {\n",
       "      background-color: #3B4455;\n",
       "      fill: #D2E3FC;\n",
       "    }\n",
       "\n",
       "    [theme=dark] .colab-df-convert:hover {\n",
       "      background-color: #434B5C;\n",
       "      box-shadow: 0px 1px 3px 1px rgba(0, 0, 0, 0.15);\n",
       "      filter: drop-shadow(0px 1px 2px rgba(0, 0, 0, 0.3));\n",
       "      fill: #FFFFFF;\n",
       "    }\n",
       "  </style>\n",
       "\n",
       "      <script>\n",
       "        const buttonEl =\n",
       "          document.querySelector('#df-ba418636-fa92-44ba-b0af-5beffd31a692 button.colab-df-convert');\n",
       "        buttonEl.style.display =\n",
       "          google.colab.kernel.accessAllowed ? 'block' : 'none';\n",
       "\n",
       "        async function convertToInteractive(key) {\n",
       "          const element = document.querySelector('#df-ba418636-fa92-44ba-b0af-5beffd31a692');\n",
       "          const dataTable =\n",
       "            await google.colab.kernel.invokeFunction('convertToInteractive',\n",
       "                                                     [key], {});\n",
       "          if (!dataTable) return;\n",
       "\n",
       "          const docLinkHtml = 'Like what you see? Visit the ' +\n",
       "            '<a target=\"_blank\" href=https://colab.research.google.com/notebooks/data_table.ipynb>data table notebook</a>'\n",
       "            + ' to learn more about interactive tables.';\n",
       "          element.innerHTML = '';\n",
       "          dataTable['output_type'] = 'display_data';\n",
       "          await google.colab.output.renderOutput(dataTable, element);\n",
       "          const docLink = document.createElement('div');\n",
       "          docLink.innerHTML = docLinkHtml;\n",
       "          element.appendChild(docLink);\n",
       "        }\n",
       "      </script>\n",
       "    </div>\n",
       "  </div>\n",
       "  "
      ],
      "text/plain": [
       "                                                 video  class\n",
       "0    /content/drive/MyDrive/Colab Notebooks/ML Proj...      2\n",
       "1    /content/drive/MyDrive/Colab Notebooks/ML Proj...      2\n",
       "2    /content/drive/MyDrive/Colab Notebooks/ML Proj...      2\n",
       "3    /content/drive/MyDrive/Colab Notebooks/ML Proj...      2\n",
       "4    /content/drive/MyDrive/Colab Notebooks/ML Proj...      2\n",
       "..                                                 ...    ...\n",
       "676  /content/drive/MyDrive/Colab Notebooks/ML Proj...      2\n",
       "677  /content/drive/MyDrive/Colab Notebooks/ML Proj...      2\n",
       "678  /content/drive/MyDrive/Colab Notebooks/ML Proj...      2\n",
       "679  /content/drive/MyDrive/Colab Notebooks/ML Proj...      2\n",
       "680  /content/drive/MyDrive/Colab Notebooks/ML Proj...      2\n",
       "\n",
       "[681 rows x 2 columns]"
      ]
     },
     "execution_count": 72,
     "metadata": {},
     "output_type": "execute_result"
    }
   ],
   "source": [
    "result_df"
   ]
  },
  {
   "cell_type": "code",
   "execution_count": 73,
   "metadata": {
    "executionInfo": {
     "elapsed": 497,
     "status": "ok",
     "timestamp": 1683582633250,
     "user": {
      "displayName": "vinutha a",
      "userId": "16189884592385199117"
     },
     "user_tz": 420
    },
    "id": "v902fBvENG-a"
   },
   "outputs": [],
   "source": [
    "true_val = result\n",
    "vid_resnet_y_true = []\n",
    "for i in range(0,len(true_val)):\n",
    "  act = true_val[i][0].split('/')[-2]\n",
    "  vid_resnet_y_true.append(label_map.get(folder_map.get(act)))"
   ]
  },
  {
   "cell_type": "code",
   "execution_count": 74,
   "metadata": {
    "executionInfo": {
     "elapsed": 4,
     "status": "ok",
     "timestamp": 1683582635919,
     "user": {
      "displayName": "vinutha a",
      "userId": "16189884592385199117"
     },
     "user_tz": 420
    },
    "id": "6wCS9QD1NIWO"
   },
   "outputs": [],
   "source": [
    "vid_resnet_y_predict = list(result_df['class'])"
   ]
  },
  {
   "cell_type": "code",
   "execution_count": 75,
   "metadata": {
    "colab": {
     "base_uri": "https://localhost:8080/"
    },
    "executionInfo": {
     "elapsed": 232,
     "status": "ok",
     "timestamp": 1683582638181,
     "user": {
      "displayName": "vinutha a",
      "userId": "16189884592385199117"
     },
     "user_tz": 420
    },
    "id": "1l9MB55xRNje",
    "outputId": "5e80fe99-370a-48e5-e89f-6703717e2720"
   },
   "outputs": [
    {
     "name": "stdout",
     "output_type": "stream",
     "text": [
      "Class to Label Mapping:\n",
      "-----------------------\n",
      "class 0 - baseball\n",
      "class 1 - basketball\n",
      "class 2 - fencing\n",
      "class 3 - tennis\n",
      "class 4 - volleyball\n"
     ]
    }
   ],
   "source": [
    "print('Class to Label Mapping:')\n",
    "print('-----------------------')\n",
    "for key,value in label_map.items():\n",
    "  print(f'class {value} - {key}')"
   ]
  },
  {
   "cell_type": "code",
   "execution_count": 76,
   "metadata": {
    "colab": {
     "base_uri": "https://localhost:8080/"
    },
    "executionInfo": {
     "elapsed": 312,
     "status": "ok",
     "timestamp": 1683582644447,
     "user": {
      "displayName": "vinutha a",
      "userId": "16189884592385199117"
     },
     "user_tz": 420
    },
    "id": "s_OBX-7nN1QR",
    "outputId": "7ba5f532-1e68-4080-af9f-632f6185fdd5"
   },
   "outputs": [
    {
     "name": "stdout",
     "output_type": "stream",
     "text": [
      "Confusion Matrix for Resnet50 - Video Classification\n",
      "----------------------------------------------------\n"
     ]
    },
    {
     "data": {
      "text/plain": [
       "array([[137,   0,  13,   0,   0],\n",
       "       [ 20,   0,  99,   0,  18],\n",
       "       [  7,   0, 103,   0,   1],\n",
       "       [ 60,   0,  85,   6,  16],\n",
       "       [  3,   0,  97,   0,  16]])"
      ]
     },
     "execution_count": 76,
     "metadata": {},
     "output_type": "execute_result"
    }
   ],
   "source": [
    "print('Confusion Matrix for Resnet50 - Video Classification')\n",
    "print('----------------------------------------------------')\n",
    "confusion_matrix(vid_resnet_y_true,vid_resnet_y_predict)"
   ]
  },
  {
   "cell_type": "code",
   "execution_count": 77,
   "metadata": {
    "colab": {
     "base_uri": "https://localhost:8080/"
    },
    "executionInfo": {
     "elapsed": 535,
     "status": "ok",
     "timestamp": 1683582650266,
     "user": {
      "displayName": "vinutha a",
      "userId": "16189884592385199117"
     },
     "user_tz": 420
    },
    "id": "j2dnQYK2Px2J",
    "outputId": "2ae2ff3c-5d7d-4139-a338-0f2689ee4a6b"
   },
   "outputs": [
    {
     "name": "stdout",
     "output_type": "stream",
     "text": [
      "Classification Report:\n",
      "----------------------\n",
      "              precision    recall  f1-score   support\n",
      "\n",
      "     class 0       0.60      0.91      0.73       150\n",
      "     class 1       0.00      0.00      0.00       137\n",
      "     class 2       0.26      0.93      0.41       111\n",
      "     class 3       1.00      0.04      0.07       167\n",
      "     class 4       0.31      0.14      0.19       116\n",
      "\n",
      "    accuracy                           0.38       681\n",
      "   macro avg       0.44      0.40      0.28       681\n",
      "weighted avg       0.47      0.38      0.28       681\n",
      "\n"
     ]
    }
   ],
   "source": [
    "print('Classification Report:')\n",
    "print('----------------------')\n",
    "print(classification_report(vid_resnet_y_true,vid_resnet_y_predict,target_names=['class 0','class 1','class 2','class 3','class 4']))"
   ]
  },
  {
   "cell_type": "code",
   "execution_count": 78,
   "metadata": {
    "colab": {
     "base_uri": "https://localhost:8080/"
    },
    "executionInfo": {
     "elapsed": 311,
     "status": "ok",
     "timestamp": 1683582655066,
     "user": {
      "displayName": "vinutha a",
      "userId": "16189884592385199117"
     },
     "user_tz": 420
    },
    "id": "f3koPHW3Q-QU",
    "outputId": "5fae81ae-8bc3-4a8b-954c-375861264bf7"
   },
   "outputs": [
    {
     "name": "stdout",
     "output_type": "stream",
     "text": [
      "Accuracy Score:\n",
      "---------------\n",
      "0.38472834067547723\n"
     ]
    }
   ],
   "source": [
    "print('Accuracy Score:')\n",
    "print('---------------')\n",
    "print(accuracy_score(vid_resnet_y_true,vid_resnet_y_predict))"
   ]
  },
  {
   "cell_type": "markdown",
   "metadata": {
    "id": "Qb2FdVpsTJzj"
   },
   "source": [
    "**EfficientNetB0**"
   ]
  },
  {
   "cell_type": "code",
   "execution_count": 79,
   "metadata": {
    "colab": {
     "base_uri": "https://localhost:8080/"
    },
    "executionInfo": {
     "elapsed": 43594,
     "status": "ok",
     "timestamp": 1683582743868,
     "user": {
      "displayName": "vinutha a",
      "userId": "16189884592385199117"
     },
     "user_tz": 420
    },
    "id": "0LvVRDv1TG1P",
    "outputId": "e7f71e96-8f8e-464e-cf58-10c8b87b5f6d"
   },
   "outputs": [
    {
     "name": "stdout",
     "output_type": "stream",
     "text": [
      "Epoch 1/100\n",
      "198/198 [==============================] - 3s 14ms/step - loss: 1.6672 - accuracy: 0.6866\n",
      "Epoch 2/100\n",
      "198/198 [==============================] - 3s 13ms/step - loss: 1.6849 - accuracy: 0.6795\n",
      "Epoch 3/100\n",
      "198/198 [==============================] - 3s 14ms/step - loss: 1.6844 - accuracy: 0.6633\n",
      "Epoch 4/100\n",
      "198/198 [==============================] - 3s 13ms/step - loss: 1.7510 - accuracy: 0.6785\n",
      "Epoch 5/100\n",
      "198/198 [==============================] - 3s 14ms/step - loss: 1.5570 - accuracy: 0.6998\n",
      "Epoch 6/100\n",
      "198/198 [==============================] - 3s 13ms/step - loss: 1.8773 - accuracy: 0.6602\n",
      "Epoch 7/100\n",
      "198/198 [==============================] - 3s 13ms/step - loss: 1.5478 - accuracy: 0.6937\n",
      "Epoch 8/100\n",
      "198/198 [==============================] - 3s 14ms/step - loss: 1.5810 - accuracy: 0.6866\n",
      "Epoch 9/100\n",
      "198/198 [==============================] - 3s 13ms/step - loss: 1.5530 - accuracy: 0.6897\n",
      "Epoch 10/100\n",
      "198/198 [==============================] - 3s 13ms/step - loss: 1.5546 - accuracy: 0.6866\n",
      "Epoch 11/100\n",
      "198/198 [==============================] - 3s 14ms/step - loss: 1.4662 - accuracy: 0.6998\n",
      "Epoch 12/100\n",
      "198/198 [==============================] - 3s 13ms/step - loss: 1.5594 - accuracy: 0.6897\n",
      "Epoch 13/100\n",
      "198/198 [==============================] - 3s 13ms/step - loss: 1.6081 - accuracy: 0.6846\n",
      "Epoch 14/100\n",
      "198/198 [==============================] - 3s 13ms/step - loss: 1.4705 - accuracy: 0.6957\n",
      "Epoch 15/100\n",
      "198/198 [==============================] - 3s 13ms/step - loss: 1.5092 - accuracy: 0.6876\n",
      "Epoch 16/100\n",
      "198/198 [==============================] - ETA: 0s - loss: 1.5006 - accuracy: 0.6886Restoring model weights from the end of the best epoch: 11.\n",
      "198/198 [==============================] - 3s 14ms/step - loss: 1.5006 - accuracy: 0.6886\n",
      "Epoch 16: early stopping\n"
     ]
    }
   ],
   "source": [
    "vid_en = effnet.fit(new_train_data, epochs=100,callbacks=[early_stop])"
   ]
  },
  {
   "cell_type": "code",
   "execution_count": 81,
   "metadata": {
    "executionInfo": {
     "elapsed": 2268882,
     "status": "ok",
     "timestamp": 1683585181050,
     "user": {
      "displayName": "vinutha a",
      "userId": "16189884592385199117"
     },
     "user_tz": 420
    },
    "id": "LJZV8HpmVCvF"
   },
   "outputs": [],
   "source": [
    "effnet_result = []\n",
    "for video,frames in vid_frame.items():\n",
    "  tempo = []\n",
    "  class_0 = []\n",
    "  class_1 = []\n",
    "  class_2 = []\n",
    "  class_3 = []\n",
    "  class_4 = []\n",
    "  for f in frames:\n",
    "    y_pred = effnet.predict(f,verbose=0)\n",
    "    class_0.append(y_pred[0][0])\n",
    "    class_1.append(y_pred[0][1])\n",
    "    class_2.append(y_pred[0][2])\n",
    "    class_3.append(y_pred[0][3])\n",
    "    class_4.append(y_pred[0][4])\n",
    "  rolling_average1 = pd.Series(np.array(class_0)).rolling(window=2).mean()\n",
    "  rolling_average2 = pd.Series(np.array(class_1)).rolling(window=2).mean()\n",
    "  rolling_average3 = pd.Series(np.array(class_2)).rolling(window=2).mean()\n",
    "  rolling_average4 = pd.Series(np.array(class_3)).rolling(window=2).mean()\n",
    "  rolling_average5 = pd.Series(np.array(class_4)).rolling(window=2).mean()\n",
    "  tempo.append(rolling_average1[np.argmax(rolling_average1,axis=0)])\n",
    "  tempo.append(rolling_average2[np.argmax(rolling_average2,axis=0)])\n",
    "  tempo.append(rolling_average3[np.argmax(rolling_average3,axis=0)])\n",
    "  tempo.append(rolling_average4[np.argmax(rolling_average4,axis=0)])\n",
    "  tempo.append(rolling_average5[np.argmax(rolling_average5,axis=0)])\n",
    "  effnet_result.append([video,np.argmax(tempo,axis=0)])"
   ]
  },
  {
   "cell_type": "code",
   "execution_count": 82,
   "metadata": {
    "executionInfo": {
     "elapsed": 398,
     "status": "ok",
     "timestamp": 1683585188222,
     "user": {
      "displayName": "vinutha a",
      "userId": "16189884592385199117"
     },
     "user_tz": 420
    },
    "id": "PvfuwjRsWybr"
   },
   "outputs": [],
   "source": [
    "effnet_result_df = pd.DataFrame(effnet_result,columns=['video','class'])"
   ]
  },
  {
   "cell_type": "code",
   "execution_count": 83,
   "metadata": {
    "colab": {
     "base_uri": "https://localhost:8080/",
     "height": 423
    },
    "executionInfo": {
     "elapsed": 444,
     "status": "ok",
     "timestamp": 1683585193563,
     "user": {
      "displayName": "vinutha a",
      "userId": "16189884592385199117"
     },
     "user_tz": 420
    },
    "id": "McZsBY0pW85L",
    "outputId": "f20062d9-026d-4ffc-ab2c-654e31f396a1"
   },
   "outputs": [
    {
     "data": {
      "text/html": [
       "\n",
       "  <div id=\"df-a3e26a60-be4a-4c20-8266-35ce8a06871c\">\n",
       "    <div class=\"colab-df-container\">\n",
       "      <div>\n",
       "<style scoped>\n",
       "    .dataframe tbody tr th:only-of-type {\n",
       "        vertical-align: middle;\n",
       "    }\n",
       "\n",
       "    .dataframe tbody tr th {\n",
       "        vertical-align: top;\n",
       "    }\n",
       "\n",
       "    .dataframe thead th {\n",
       "        text-align: right;\n",
       "    }\n",
       "</style>\n",
       "<table border=\"1\" class=\"dataframe\">\n",
       "  <thead>\n",
       "    <tr style=\"text-align: right;\">\n",
       "      <th></th>\n",
       "      <th>video</th>\n",
       "      <th>class</th>\n",
       "    </tr>\n",
       "  </thead>\n",
       "  <tbody>\n",
       "    <tr>\n",
       "      <th>0</th>\n",
       "      <td>/content/drive/MyDrive/Colab Notebooks/ML Proj...</td>\n",
       "      <td>3</td>\n",
       "    </tr>\n",
       "    <tr>\n",
       "      <th>1</th>\n",
       "      <td>/content/drive/MyDrive/Colab Notebooks/ML Proj...</td>\n",
       "      <td>2</td>\n",
       "    </tr>\n",
       "    <tr>\n",
       "      <th>2</th>\n",
       "      <td>/content/drive/MyDrive/Colab Notebooks/ML Proj...</td>\n",
       "      <td>4</td>\n",
       "    </tr>\n",
       "    <tr>\n",
       "      <th>3</th>\n",
       "      <td>/content/drive/MyDrive/Colab Notebooks/ML Proj...</td>\n",
       "      <td>2</td>\n",
       "    </tr>\n",
       "    <tr>\n",
       "      <th>4</th>\n",
       "      <td>/content/drive/MyDrive/Colab Notebooks/ML Proj...</td>\n",
       "      <td>2</td>\n",
       "    </tr>\n",
       "    <tr>\n",
       "      <th>...</th>\n",
       "      <td>...</td>\n",
       "      <td>...</td>\n",
       "    </tr>\n",
       "    <tr>\n",
       "      <th>676</th>\n",
       "      <td>/content/drive/MyDrive/Colab Notebooks/ML Proj...</td>\n",
       "      <td>4</td>\n",
       "    </tr>\n",
       "    <tr>\n",
       "      <th>677</th>\n",
       "      <td>/content/drive/MyDrive/Colab Notebooks/ML Proj...</td>\n",
       "      <td>2</td>\n",
       "    </tr>\n",
       "    <tr>\n",
       "      <th>678</th>\n",
       "      <td>/content/drive/MyDrive/Colab Notebooks/ML Proj...</td>\n",
       "      <td>2</td>\n",
       "    </tr>\n",
       "    <tr>\n",
       "      <th>679</th>\n",
       "      <td>/content/drive/MyDrive/Colab Notebooks/ML Proj...</td>\n",
       "      <td>4</td>\n",
       "    </tr>\n",
       "    <tr>\n",
       "      <th>680</th>\n",
       "      <td>/content/drive/MyDrive/Colab Notebooks/ML Proj...</td>\n",
       "      <td>2</td>\n",
       "    </tr>\n",
       "  </tbody>\n",
       "</table>\n",
       "<p>681 rows × 2 columns</p>\n",
       "</div>\n",
       "      <button class=\"colab-df-convert\" onclick=\"convertToInteractive('df-a3e26a60-be4a-4c20-8266-35ce8a06871c')\"\n",
       "              title=\"Convert this dataframe to an interactive table.\"\n",
       "              style=\"display:none;\">\n",
       "        \n",
       "  <svg xmlns=\"http://www.w3.org/2000/svg\" height=\"24px\"viewBox=\"0 0 24 24\"\n",
       "       width=\"24px\">\n",
       "    <path d=\"M0 0h24v24H0V0z\" fill=\"none\"/>\n",
       "    <path d=\"M18.56 5.44l.94 2.06.94-2.06 2.06-.94-2.06-.94-.94-2.06-.94 2.06-2.06.94zm-11 1L8.5 8.5l.94-2.06 2.06-.94-2.06-.94L8.5 2.5l-.94 2.06-2.06.94zm10 10l.94 2.06.94-2.06 2.06-.94-2.06-.94-.94-2.06-.94 2.06-2.06.94z\"/><path d=\"M17.41 7.96l-1.37-1.37c-.4-.4-.92-.59-1.43-.59-.52 0-1.04.2-1.43.59L10.3 9.45l-7.72 7.72c-.78.78-.78 2.05 0 2.83L4 21.41c.39.39.9.59 1.41.59.51 0 1.02-.2 1.41-.59l7.78-7.78 2.81-2.81c.8-.78.8-2.07 0-2.86zM5.41 20L4 18.59l7.72-7.72 1.47 1.35L5.41 20z\"/>\n",
       "  </svg>\n",
       "      </button>\n",
       "      \n",
       "  <style>\n",
       "    .colab-df-container {\n",
       "      display:flex;\n",
       "      flex-wrap:wrap;\n",
       "      gap: 12px;\n",
       "    }\n",
       "\n",
       "    .colab-df-convert {\n",
       "      background-color: #E8F0FE;\n",
       "      border: none;\n",
       "      border-radius: 50%;\n",
       "      cursor: pointer;\n",
       "      display: none;\n",
       "      fill: #1967D2;\n",
       "      height: 32px;\n",
       "      padding: 0 0 0 0;\n",
       "      width: 32px;\n",
       "    }\n",
       "\n",
       "    .colab-df-convert:hover {\n",
       "      background-color: #E2EBFA;\n",
       "      box-shadow: 0px 1px 2px rgba(60, 64, 67, 0.3), 0px 1px 3px 1px rgba(60, 64, 67, 0.15);\n",
       "      fill: #174EA6;\n",
       "    }\n",
       "\n",
       "    [theme=dark] .colab-df-convert {\n",
       "      background-color: #3B4455;\n",
       "      fill: #D2E3FC;\n",
       "    }\n",
       "\n",
       "    [theme=dark] .colab-df-convert:hover {\n",
       "      background-color: #434B5C;\n",
       "      box-shadow: 0px 1px 3px 1px rgba(0, 0, 0, 0.15);\n",
       "      filter: drop-shadow(0px 1px 2px rgba(0, 0, 0, 0.3));\n",
       "      fill: #FFFFFF;\n",
       "    }\n",
       "  </style>\n",
       "\n",
       "      <script>\n",
       "        const buttonEl =\n",
       "          document.querySelector('#df-a3e26a60-be4a-4c20-8266-35ce8a06871c button.colab-df-convert');\n",
       "        buttonEl.style.display =\n",
       "          google.colab.kernel.accessAllowed ? 'block' : 'none';\n",
       "\n",
       "        async function convertToInteractive(key) {\n",
       "          const element = document.querySelector('#df-a3e26a60-be4a-4c20-8266-35ce8a06871c');\n",
       "          const dataTable =\n",
       "            await google.colab.kernel.invokeFunction('convertToInteractive',\n",
       "                                                     [key], {});\n",
       "          if (!dataTable) return;\n",
       "\n",
       "          const docLinkHtml = 'Like what you see? Visit the ' +\n",
       "            '<a target=\"_blank\" href=https://colab.research.google.com/notebooks/data_table.ipynb>data table notebook</a>'\n",
       "            + ' to learn more about interactive tables.';\n",
       "          element.innerHTML = '';\n",
       "          dataTable['output_type'] = 'display_data';\n",
       "          await google.colab.output.renderOutput(dataTable, element);\n",
       "          const docLink = document.createElement('div');\n",
       "          docLink.innerHTML = docLinkHtml;\n",
       "          element.appendChild(docLink);\n",
       "        }\n",
       "      </script>\n",
       "    </div>\n",
       "  </div>\n",
       "  "
      ],
      "text/plain": [
       "                                                 video  class\n",
       "0    /content/drive/MyDrive/Colab Notebooks/ML Proj...      3\n",
       "1    /content/drive/MyDrive/Colab Notebooks/ML Proj...      2\n",
       "2    /content/drive/MyDrive/Colab Notebooks/ML Proj...      4\n",
       "3    /content/drive/MyDrive/Colab Notebooks/ML Proj...      2\n",
       "4    /content/drive/MyDrive/Colab Notebooks/ML Proj...      2\n",
       "..                                                 ...    ...\n",
       "676  /content/drive/MyDrive/Colab Notebooks/ML Proj...      4\n",
       "677  /content/drive/MyDrive/Colab Notebooks/ML Proj...      2\n",
       "678  /content/drive/MyDrive/Colab Notebooks/ML Proj...      2\n",
       "679  /content/drive/MyDrive/Colab Notebooks/ML Proj...      4\n",
       "680  /content/drive/MyDrive/Colab Notebooks/ML Proj...      2\n",
       "\n",
       "[681 rows x 2 columns]"
      ]
     },
     "execution_count": 83,
     "metadata": {},
     "output_type": "execute_result"
    }
   ],
   "source": [
    "effnet_result_df"
   ]
  },
  {
   "cell_type": "code",
   "execution_count": 84,
   "metadata": {
    "executionInfo": {
     "elapsed": 522,
     "status": "ok",
     "timestamp": 1683585198352,
     "user": {
      "displayName": "vinutha a",
      "userId": "16189884592385199117"
     },
     "user_tz": 420
    },
    "id": "2MueF8u0W_fv"
   },
   "outputs": [],
   "source": [
    "true_val = effnet_result\n",
    "vid_effnet_y_true = []\n",
    "for i in range(0,len(true_val)):\n",
    "  act = true_val[i][0].split('/')[-2]\n",
    "  vid_effnet_y_true.append(label_map.get(folder_map.get(act)))"
   ]
  },
  {
   "cell_type": "code",
   "execution_count": 86,
   "metadata": {
    "executionInfo": {
     "elapsed": 4,
     "status": "ok",
     "timestamp": 1683585213391,
     "user": {
      "displayName": "vinutha a",
      "userId": "16189884592385199117"
     },
     "user_tz": 420
    },
    "id": "D1RxNEPRXX1v"
   },
   "outputs": [],
   "source": [
    "vid_effnet_y_predict = list(effnet_result_df['class'])"
   ]
  },
  {
   "cell_type": "code",
   "execution_count": 87,
   "metadata": {
    "colab": {
     "base_uri": "https://localhost:8080/"
    },
    "executionInfo": {
     "elapsed": 471,
     "status": "ok",
     "timestamp": 1683585217601,
     "user": {
      "displayName": "vinutha a",
      "userId": "16189884592385199117"
     },
     "user_tz": 420
    },
    "id": "HtqPJMl2XdXX",
    "outputId": "21f90543-1a51-4a8c-a2d4-644d632821ae"
   },
   "outputs": [
    {
     "name": "stdout",
     "output_type": "stream",
     "text": [
      "Confusion Matrix for Resnet50 - Video Classification\n",
      "----------------------------------------------------\n"
     ]
    },
    {
     "data": {
      "text/plain": [
       "array([[101,   3,  43,   3,   0],\n",
       "       [ 21,   0,  85,   9,  22],\n",
       "       [  3,   0, 108,   0,   0],\n",
       "       [ 54,   0,  60,  42,  11],\n",
       "       [  5,   0,  89,   0,  22]])"
      ]
     },
     "execution_count": 87,
     "metadata": {},
     "output_type": "execute_result"
    }
   ],
   "source": [
    "print('Confusion Matrix for Resnet50 - Video Classification')\n",
    "print('----------------------------------------------------')\n",
    "confusion_matrix(vid_effnet_y_true,vid_effnet_y_predict)"
   ]
  },
  {
   "cell_type": "code",
   "execution_count": 88,
   "metadata": {
    "colab": {
     "base_uri": "https://localhost:8080/"
    },
    "executionInfo": {
     "elapsed": 524,
     "status": "ok",
     "timestamp": 1683585222008,
     "user": {
      "displayName": "vinutha a",
      "userId": "16189884592385199117"
     },
     "user_tz": 420
    },
    "id": "NPHRs7MRXdch",
    "outputId": "037164c2-3c3b-4081-f346-ca81c1a40bdc"
   },
   "outputs": [
    {
     "name": "stdout",
     "output_type": "stream",
     "text": [
      "Classification Report:\n",
      "----------------------\n",
      "              precision    recall  f1-score   support\n",
      "\n",
      "     class 0       0.55      0.67      0.60       150\n",
      "     class 1       0.00      0.00      0.00       137\n",
      "     class 2       0.28      0.97      0.44       111\n",
      "     class 3       0.78      0.25      0.38       167\n",
      "     class 4       0.40      0.19      0.26       116\n",
      "\n",
      "    accuracy                           0.40       681\n",
      "   macro avg       0.40      0.42      0.34       681\n",
      "weighted avg       0.43      0.40      0.34       681\n",
      "\n"
     ]
    }
   ],
   "source": [
    "print('Classification Report:')\n",
    "print('----------------------')\n",
    "print(classification_report(vid_effnet_y_true,vid_effnet_y_predict,target_names=['class 0','class 1','class 2','class 3','class 4']))"
   ]
  },
  {
   "cell_type": "code",
   "execution_count": 89,
   "metadata": {
    "colab": {
     "base_uri": "https://localhost:8080/"
    },
    "executionInfo": {
     "elapsed": 395,
     "status": "ok",
     "timestamp": 1683585228677,
     "user": {
      "displayName": "vinutha a",
      "userId": "16189884592385199117"
     },
     "user_tz": 420
    },
    "id": "4bciuFg9Yz-l",
    "outputId": "8634cbb0-34ca-4113-d437-42addc55436e"
   },
   "outputs": [
    {
     "name": "stdout",
     "output_type": "stream",
     "text": [
      "Accuracy Score:\n",
      "---------------\n",
      "0.4008810572687225\n"
     ]
    }
   ],
   "source": [
    "print('Accuracy Score:')\n",
    "print('---------------')\n",
    "print(accuracy_score(vid_effnet_y_true,vid_effnet_y_predict))"
   ]
  },
  {
   "cell_type": "markdown",
   "metadata": {
    "id": "AP3WreW2wAqy"
   },
   "source": [
    "**VGG16**"
   ]
  },
  {
   "cell_type": "code",
   "execution_count": 90,
   "metadata": {
    "executionInfo": {
     "elapsed": 941,
     "status": "ok",
     "timestamp": 1683585237478,
     "user": {
      "displayName": "vinutha a",
      "userId": "16189884592385199117"
     },
     "user_tz": 420
    },
    "id": "j3-S6UPAwE38"
   },
   "outputs": [],
   "source": [
    "keras.models.save_model(vgg_model, 'vgg16.hdf5')"
   ]
  },
  {
   "cell_type": "code",
   "execution_count": 91,
   "metadata": {
    "colab": {
     "base_uri": "https://localhost:8080/"
    },
    "executionInfo": {
     "elapsed": 56975,
     "status": "ok",
     "timestamp": 1683585296990,
     "user": {
      "displayName": "vinutha a",
      "userId": "16189884592385199117"
     },
     "user_tz": 420
    },
    "id": "olFhPc_Nwpzg",
    "outputId": "6bfc9ac8-c518-4291-aafb-bbe916b79d30"
   },
   "outputs": [
    {
     "name": "stdout",
     "output_type": "stream",
     "text": [
      "Epoch 1/100\n",
      "198/198 [==============================] - 4s 12ms/step - loss: 1.2499 - accuracy: 0.5974\n",
      "Epoch 2/100\n",
      "198/198 [==============================] - 2s 10ms/step - loss: 1.1291 - accuracy: 0.6308\n",
      "Epoch 3/100\n",
      "198/198 [==============================] - 2s 11ms/step - loss: 0.9669 - accuracy: 0.6521\n",
      "Epoch 4/100\n",
      "198/198 [==============================] - 2s 10ms/step - loss: 0.9865 - accuracy: 0.6339\n",
      "Epoch 5/100\n",
      "198/198 [==============================] - 2s 10ms/step - loss: 0.9130 - accuracy: 0.6714\n",
      "Epoch 6/100\n",
      "198/198 [==============================] - 2s 10ms/step - loss: 0.8826 - accuracy: 0.6917\n",
      "Epoch 7/100\n",
      "198/198 [==============================] - 2s 10ms/step - loss: 0.8171 - accuracy: 0.6957\n",
      "Epoch 8/100\n",
      "198/198 [==============================] - 2s 10ms/step - loss: 0.8265 - accuracy: 0.7089\n",
      "Epoch 9/100\n",
      "198/198 [==============================] - 2s 10ms/step - loss: 0.7965 - accuracy: 0.7262\n",
      "Epoch 10/100\n",
      "198/198 [==============================] - 2s 10ms/step - loss: 0.7991 - accuracy: 0.7282\n",
      "Epoch 11/100\n",
      "198/198 [==============================] - 2s 10ms/step - loss: 0.7553 - accuracy: 0.7231\n",
      "Epoch 12/100\n",
      "198/198 [==============================] - 2s 10ms/step - loss: 0.7500 - accuracy: 0.7465\n",
      "Epoch 13/100\n",
      "198/198 [==============================] - 2s 10ms/step - loss: 0.7480 - accuracy: 0.7424\n",
      "Epoch 14/100\n",
      "198/198 [==============================] - 2s 10ms/step - loss: 0.7653 - accuracy: 0.7069\n",
      "Epoch 15/100\n",
      "198/198 [==============================] - 2s 10ms/step - loss: 0.7003 - accuracy: 0.7535\n",
      "Epoch 16/100\n",
      "198/198 [==============================] - 2s 10ms/step - loss: 0.6811 - accuracy: 0.7546\n",
      "Epoch 17/100\n",
      "198/198 [==============================] - 2s 10ms/step - loss: 0.7181 - accuracy: 0.7485\n",
      "Epoch 18/100\n",
      "198/198 [==============================] - 2s 10ms/step - loss: 0.6954 - accuracy: 0.7576\n",
      "Epoch 19/100\n",
      "198/198 [==============================] - 2s 10ms/step - loss: 0.7220 - accuracy: 0.7546\n",
      "Epoch 20/100\n",
      "198/198 [==============================] - 2s 10ms/step - loss: 0.7175 - accuracy: 0.7465\n",
      "Epoch 21/100\n",
      "198/198 [==============================] - 2s 11ms/step - loss: 0.6372 - accuracy: 0.7718\n",
      "Epoch 22/100\n",
      "198/198 [==============================] - 2s 10ms/step - loss: 0.6845 - accuracy: 0.7566\n",
      "Epoch 23/100\n",
      "198/198 [==============================] - 2s 10ms/step - loss: 0.6924 - accuracy: 0.7627\n",
      "Epoch 24/100\n",
      "198/198 [==============================] - 2s 10ms/step - loss: 0.6909 - accuracy: 0.7647\n",
      "Epoch 25/100\n",
      "198/198 [==============================] - 2s 10ms/step - loss: 0.6804 - accuracy: 0.7566\n",
      "Epoch 26/100\n",
      "197/198 [============================>.] - ETA: 0s - loss: 0.7024 - accuracy: 0.7713Restoring model weights from the end of the best epoch: 21.\n",
      "198/198 [==============================] - 2s 10ms/step - loss: 0.7034 - accuracy: 0.7708\n",
      "Epoch 26: early stopping\n"
     ]
    }
   ],
   "source": [
    "video_vgg16 = keras.models.load_model('vgg16.hdf5')\n",
    "vid_vgg16 = video_vgg16.fit(new_train_data, epochs=100,callbacks=[early_stop])"
   ]
  },
  {
   "cell_type": "code",
   "execution_count": 93,
   "metadata": {
    "executionInfo": {
     "elapsed": 2003465,
     "status": "ok",
     "timestamp": 1683587451157,
     "user": {
      "displayName": "vinutha a",
      "userId": "16189884592385199117"
     },
     "user_tz": 420
    },
    "id": "wniDlZjgwp2i"
   },
   "outputs": [],
   "source": [
    "vgg16_result = []\n",
    "for video,frames in vid_frame.items():\n",
    "  tempo = []\n",
    "  class_0 = []\n",
    "  class_1 = []\n",
    "  class_2 = []\n",
    "  class_3 = []\n",
    "  class_4 = []\n",
    "  for f in frames:\n",
    "    y_pred = video_vgg16.predict(f,verbose=0)\n",
    "    class_0.append(y_pred[0][0])\n",
    "    class_1.append(y_pred[0][1])\n",
    "    class_2.append(y_pred[0][2])\n",
    "    class_3.append(y_pred[0][3])\n",
    "    class_4.append(y_pred[0][4])\n",
    "  rolling_average1 = pd.Series(np.array(class_0)).rolling(window=4).mean()\n",
    "  rolling_average2 = pd.Series(np.array(class_1)).rolling(window=4).mean()\n",
    "  rolling_average3 = pd.Series(np.array(class_2)).rolling(window=4).mean()\n",
    "  rolling_average4 = pd.Series(np.array(class_3)).rolling(window=4).mean()\n",
    "  rolling_average5 = pd.Series(np.array(class_4)).rolling(window=4).mean()\n",
    "  tempo.append(rolling_average1[np.argmax(rolling_average1,axis=0)])\n",
    "  tempo.append(rolling_average2[np.argmax(rolling_average2,axis=0)])\n",
    "  tempo.append(rolling_average3[np.argmax(rolling_average3,axis=0)])\n",
    "  tempo.append(rolling_average4[np.argmax(rolling_average4,axis=0)])\n",
    "  tempo.append(rolling_average5[np.argmax(rolling_average5,axis=0)])\n",
    "  vgg16_result.append([video,np.argmax(tempo,axis=0)])"
   ]
  },
  {
   "cell_type": "code",
   "execution_count": 94,
   "metadata": {
    "executionInfo": {
     "elapsed": 5,
     "status": "ok",
     "timestamp": 1683587467355,
     "user": {
      "displayName": "vinutha a",
      "userId": "16189884592385199117"
     },
     "user_tz": 420
    },
    "id": "TTXzbKetwp5L"
   },
   "outputs": [],
   "source": [
    "vgg16_result_df = pd.DataFrame(vgg16_result,columns=['video','class'])"
   ]
  },
  {
   "cell_type": "code",
   "execution_count": 95,
   "metadata": {
    "colab": {
     "base_uri": "https://localhost:8080/",
     "height": 423
    },
    "executionInfo": {
     "elapsed": 334,
     "status": "ok",
     "timestamp": 1683587502222,
     "user": {
      "displayName": "vinutha a",
      "userId": "16189884592385199117"
     },
     "user_tz": 420
    },
    "id": "aIEvjAwvwp_6",
    "outputId": "8ff72bb3-7700-4e3d-f42f-d2449f5e7cc5"
   },
   "outputs": [
    {
     "data": {
      "text/html": [
       "\n",
       "  <div id=\"df-a2a05492-fafc-47e6-895e-40c100d3a4e1\">\n",
       "    <div class=\"colab-df-container\">\n",
       "      <div>\n",
       "<style scoped>\n",
       "    .dataframe tbody tr th:only-of-type {\n",
       "        vertical-align: middle;\n",
       "    }\n",
       "\n",
       "    .dataframe tbody tr th {\n",
       "        vertical-align: top;\n",
       "    }\n",
       "\n",
       "    .dataframe thead th {\n",
       "        text-align: right;\n",
       "    }\n",
       "</style>\n",
       "<table border=\"1\" class=\"dataframe\">\n",
       "  <thead>\n",
       "    <tr style=\"text-align: right;\">\n",
       "      <th></th>\n",
       "      <th>video</th>\n",
       "      <th>class</th>\n",
       "    </tr>\n",
       "  </thead>\n",
       "  <tbody>\n",
       "    <tr>\n",
       "      <th>0</th>\n",
       "      <td>/content/drive/MyDrive/Colab Notebooks/ML Proj...</td>\n",
       "      <td>3</td>\n",
       "    </tr>\n",
       "    <tr>\n",
       "      <th>1</th>\n",
       "      <td>/content/drive/MyDrive/Colab Notebooks/ML Proj...</td>\n",
       "      <td>1</td>\n",
       "    </tr>\n",
       "    <tr>\n",
       "      <th>2</th>\n",
       "      <td>/content/drive/MyDrive/Colab Notebooks/ML Proj...</td>\n",
       "      <td>3</td>\n",
       "    </tr>\n",
       "    <tr>\n",
       "      <th>3</th>\n",
       "      <td>/content/drive/MyDrive/Colab Notebooks/ML Proj...</td>\n",
       "      <td>3</td>\n",
       "    </tr>\n",
       "    <tr>\n",
       "      <th>4</th>\n",
       "      <td>/content/drive/MyDrive/Colab Notebooks/ML Proj...</td>\n",
       "      <td>3</td>\n",
       "    </tr>\n",
       "    <tr>\n",
       "      <th>...</th>\n",
       "      <td>...</td>\n",
       "      <td>...</td>\n",
       "    </tr>\n",
       "    <tr>\n",
       "      <th>676</th>\n",
       "      <td>/content/drive/MyDrive/Colab Notebooks/ML Proj...</td>\n",
       "      <td>2</td>\n",
       "    </tr>\n",
       "    <tr>\n",
       "      <th>677</th>\n",
       "      <td>/content/drive/MyDrive/Colab Notebooks/ML Proj...</td>\n",
       "      <td>2</td>\n",
       "    </tr>\n",
       "    <tr>\n",
       "      <th>678</th>\n",
       "      <td>/content/drive/MyDrive/Colab Notebooks/ML Proj...</td>\n",
       "      <td>2</td>\n",
       "    </tr>\n",
       "    <tr>\n",
       "      <th>679</th>\n",
       "      <td>/content/drive/MyDrive/Colab Notebooks/ML Proj...</td>\n",
       "      <td>2</td>\n",
       "    </tr>\n",
       "    <tr>\n",
       "      <th>680</th>\n",
       "      <td>/content/drive/MyDrive/Colab Notebooks/ML Proj...</td>\n",
       "      <td>2</td>\n",
       "    </tr>\n",
       "  </tbody>\n",
       "</table>\n",
       "<p>681 rows × 2 columns</p>\n",
       "</div>\n",
       "      <button class=\"colab-df-convert\" onclick=\"convertToInteractive('df-a2a05492-fafc-47e6-895e-40c100d3a4e1')\"\n",
       "              title=\"Convert this dataframe to an interactive table.\"\n",
       "              style=\"display:none;\">\n",
       "        \n",
       "  <svg xmlns=\"http://www.w3.org/2000/svg\" height=\"24px\"viewBox=\"0 0 24 24\"\n",
       "       width=\"24px\">\n",
       "    <path d=\"M0 0h24v24H0V0z\" fill=\"none\"/>\n",
       "    <path d=\"M18.56 5.44l.94 2.06.94-2.06 2.06-.94-2.06-.94-.94-2.06-.94 2.06-2.06.94zm-11 1L8.5 8.5l.94-2.06 2.06-.94-2.06-.94L8.5 2.5l-.94 2.06-2.06.94zm10 10l.94 2.06.94-2.06 2.06-.94-2.06-.94-.94-2.06-.94 2.06-2.06.94z\"/><path d=\"M17.41 7.96l-1.37-1.37c-.4-.4-.92-.59-1.43-.59-.52 0-1.04.2-1.43.59L10.3 9.45l-7.72 7.72c-.78.78-.78 2.05 0 2.83L4 21.41c.39.39.9.59 1.41.59.51 0 1.02-.2 1.41-.59l7.78-7.78 2.81-2.81c.8-.78.8-2.07 0-2.86zM5.41 20L4 18.59l7.72-7.72 1.47 1.35L5.41 20z\"/>\n",
       "  </svg>\n",
       "      </button>\n",
       "      \n",
       "  <style>\n",
       "    .colab-df-container {\n",
       "      display:flex;\n",
       "      flex-wrap:wrap;\n",
       "      gap: 12px;\n",
       "    }\n",
       "\n",
       "    .colab-df-convert {\n",
       "      background-color: #E8F0FE;\n",
       "      border: none;\n",
       "      border-radius: 50%;\n",
       "      cursor: pointer;\n",
       "      display: none;\n",
       "      fill: #1967D2;\n",
       "      height: 32px;\n",
       "      padding: 0 0 0 0;\n",
       "      width: 32px;\n",
       "    }\n",
       "\n",
       "    .colab-df-convert:hover {\n",
       "      background-color: #E2EBFA;\n",
       "      box-shadow: 0px 1px 2px rgba(60, 64, 67, 0.3), 0px 1px 3px 1px rgba(60, 64, 67, 0.15);\n",
       "      fill: #174EA6;\n",
       "    }\n",
       "\n",
       "    [theme=dark] .colab-df-convert {\n",
       "      background-color: #3B4455;\n",
       "      fill: #D2E3FC;\n",
       "    }\n",
       "\n",
       "    [theme=dark] .colab-df-convert:hover {\n",
       "      background-color: #434B5C;\n",
       "      box-shadow: 0px 1px 3px 1px rgba(0, 0, 0, 0.15);\n",
       "      filter: drop-shadow(0px 1px 2px rgba(0, 0, 0, 0.3));\n",
       "      fill: #FFFFFF;\n",
       "    }\n",
       "  </style>\n",
       "\n",
       "      <script>\n",
       "        const buttonEl =\n",
       "          document.querySelector('#df-a2a05492-fafc-47e6-895e-40c100d3a4e1 button.colab-df-convert');\n",
       "        buttonEl.style.display =\n",
       "          google.colab.kernel.accessAllowed ? 'block' : 'none';\n",
       "\n",
       "        async function convertToInteractive(key) {\n",
       "          const element = document.querySelector('#df-a2a05492-fafc-47e6-895e-40c100d3a4e1');\n",
       "          const dataTable =\n",
       "            await google.colab.kernel.invokeFunction('convertToInteractive',\n",
       "                                                     [key], {});\n",
       "          if (!dataTable) return;\n",
       "\n",
       "          const docLinkHtml = 'Like what you see? Visit the ' +\n",
       "            '<a target=\"_blank\" href=https://colab.research.google.com/notebooks/data_table.ipynb>data table notebook</a>'\n",
       "            + ' to learn more about interactive tables.';\n",
       "          element.innerHTML = '';\n",
       "          dataTable['output_type'] = 'display_data';\n",
       "          await google.colab.output.renderOutput(dataTable, element);\n",
       "          const docLink = document.createElement('div');\n",
       "          docLink.innerHTML = docLinkHtml;\n",
       "          element.appendChild(docLink);\n",
       "        }\n",
       "      </script>\n",
       "    </div>\n",
       "  </div>\n",
       "  "
      ],
      "text/plain": [
       "                                                 video  class\n",
       "0    /content/drive/MyDrive/Colab Notebooks/ML Proj...      3\n",
       "1    /content/drive/MyDrive/Colab Notebooks/ML Proj...      1\n",
       "2    /content/drive/MyDrive/Colab Notebooks/ML Proj...      3\n",
       "3    /content/drive/MyDrive/Colab Notebooks/ML Proj...      3\n",
       "4    /content/drive/MyDrive/Colab Notebooks/ML Proj...      3\n",
       "..                                                 ...    ...\n",
       "676  /content/drive/MyDrive/Colab Notebooks/ML Proj...      2\n",
       "677  /content/drive/MyDrive/Colab Notebooks/ML Proj...      2\n",
       "678  /content/drive/MyDrive/Colab Notebooks/ML Proj...      2\n",
       "679  /content/drive/MyDrive/Colab Notebooks/ML Proj...      2\n",
       "680  /content/drive/MyDrive/Colab Notebooks/ML Proj...      2\n",
       "\n",
       "[681 rows x 2 columns]"
      ]
     },
     "execution_count": 95,
     "metadata": {},
     "output_type": "execute_result"
    }
   ],
   "source": [
    "vgg16_result_df"
   ]
  },
  {
   "cell_type": "code",
   "execution_count": 96,
   "metadata": {
    "executionInfo": {
     "elapsed": 517,
     "status": "ok",
     "timestamp": 1683587508654,
     "user": {
      "displayName": "vinutha a",
      "userId": "16189884592385199117"
     },
     "user_tz": 420
    },
    "id": "8Gw7iOkpwqCO"
   },
   "outputs": [],
   "source": [
    "true_val = vgg16_result\n",
    "vid_vgg16_y_true = []\n",
    "for i in range(0,len(true_val)):\n",
    "  act = true_val[i][0].split('/')[-2]\n",
    "  vid_vgg16_y_true.append(label_map.get(folder_map.get(act)))"
   ]
  },
  {
   "cell_type": "code",
   "execution_count": 97,
   "metadata": {
    "executionInfo": {
     "elapsed": 3,
     "status": "ok",
     "timestamp": 1683587513258,
     "user": {
      "displayName": "vinutha a",
      "userId": "16189884592385199117"
     },
     "user_tz": 420
    },
    "id": "V350Ijs0yb_4"
   },
   "outputs": [],
   "source": [
    "vid_vgg16_y_predict = list(vgg16_result_df['class'])"
   ]
  },
  {
   "cell_type": "code",
   "execution_count": 98,
   "metadata": {
    "colab": {
     "base_uri": "https://localhost:8080/"
    },
    "executionInfo": {
     "elapsed": 523,
     "status": "ok",
     "timestamp": 1683587515932,
     "user": {
      "displayName": "vinutha a",
      "userId": "16189884592385199117"
     },
     "user_tz": 420
    },
    "id": "65I-fqtIycDN",
    "outputId": "3c91311b-56a4-4ff0-ee34-a24f777685e4"
   },
   "outputs": [
    {
     "name": "stdout",
     "output_type": "stream",
     "text": [
      "Confusion Matrix for Resnet50 - Video Classification\n",
      "----------------------------------------------------\n"
     ]
    },
    {
     "data": {
      "text/plain": [
       "array([[131,   0,  17,   1,   1],\n",
       "       [ 44,   8,  33,  41,  11],\n",
       "       [ 16,   0,  94,   0,   1],\n",
       "       [ 67,   1,   9,  81,   9],\n",
       "       [ 12,   2,  68,  18,  16]])"
      ]
     },
     "execution_count": 98,
     "metadata": {},
     "output_type": "execute_result"
    }
   ],
   "source": [
    "print('Confusion Matrix for Resnet50 - Video Classification')\n",
    "print('----------------------------------------------------')\n",
    "confusion_matrix(vid_vgg16_y_true,vid_vgg16_y_predict)"
   ]
  },
  {
   "cell_type": "code",
   "execution_count": 99,
   "metadata": {
    "colab": {
     "base_uri": "https://localhost:8080/"
    },
    "executionInfo": {
     "elapsed": 14,
     "status": "ok",
     "timestamp": 1683587519723,
     "user": {
      "displayName": "vinutha a",
      "userId": "16189884592385199117"
     },
     "user_tz": 420
    },
    "id": "l2oQ1tuGycGn",
    "outputId": "2eac1c12-bcbf-4c40-94f8-c5a795226b0f"
   },
   "outputs": [
    {
     "name": "stdout",
     "output_type": "stream",
     "text": [
      "Classification Report:\n",
      "----------------------\n",
      "              precision    recall  f1-score   support\n",
      "\n",
      "     class 0       0.49      0.87      0.62       150\n",
      "     class 1       0.73      0.06      0.11       137\n",
      "     class 2       0.43      0.85      0.57       111\n",
      "     class 3       0.57      0.49      0.53       167\n",
      "     class 4       0.42      0.14      0.21       116\n",
      "\n",
      "    accuracy                           0.48       681\n",
      "   macro avg       0.53      0.48      0.41       681\n",
      "weighted avg       0.54      0.48      0.42       681\n",
      "\n"
     ]
    }
   ],
   "source": [
    "print('Classification Report:')\n",
    "print('----------------------')\n",
    "print(classification_report(vid_vgg16_y_true,vid_vgg16_y_predict,target_names=['class 0','class 1','class 2','class 3','class 4']))"
   ]
  },
  {
   "cell_type": "code",
   "execution_count": 100,
   "metadata": {
    "colab": {
     "base_uri": "https://localhost:8080/"
    },
    "executionInfo": {
     "elapsed": 265,
     "status": "ok",
     "timestamp": 1683587524687,
     "user": {
      "displayName": "vinutha a",
      "userId": "16189884592385199117"
     },
     "user_tz": 420
    },
    "id": "wwVsxswpzblE",
    "outputId": "d407d6dd-35a7-4b4e-dd71-cd732a8b5bd5"
   },
   "outputs": [
    {
     "name": "stdout",
     "output_type": "stream",
     "text": [
      "Accuracy Score:\n",
      "---------------\n",
      "0.4845814977973568\n"
     ]
    }
   ],
   "source": [
    "print('Accuracy Score:')\n",
    "print('---------------')\n",
    "print(accuracy_score(vid_vgg16_y_true,vid_vgg16_y_predict))"
   ]
  },
  {
   "cell_type": "markdown",
   "metadata": {
    "id": "JgzNdEfko2Cn"
   },
   "source": [
    "**Citations**\n",
    "\n",
    "\n",
    "1.   https://www.tensorflow.org/tutorials/images/data_augmentation\n",
    "2.   https://www.tensorflow.org/api_docs/python/tf/keras/applications/resnet50/ResNet50\n",
    "3.   https://www.tensorflow.org/api_docs/python/tf/keras/applications/vgg16\n",
    "4. https://www.tensorflow.org/api_docs/python/tf/keras/callbacks\n",
    "5. https://numpy.org/doc/stable/reference/generated/numpy.expand_dims.html\n",
    "6. https://www.geeksforgeeks.org/extract-video-frames-from-webcam-and-save-to-images-using-python/\n",
    "7. https://stackoverflow.com/questions/54299737/opencv-numpy-matrix-frame-is-filled-with-zeroes\n",
    "8. https://keras.io/api/data_loading/\n",
    "9. https://stackoverflow.com/questions/49841324/what-does-calling-fit-multiple-times-on-the-same-model-do\n",
    "10. https://docs.opencv.org/3.4/dd/d43/tutorial_py_video_display.html\n",
    "\n",
    "\n",
    "\n"
   ]
  }
 ],
 "metadata": {
  "accelerator": "GPU",
  "colab": {
   "gpuType": "A100",
   "provenance": []
  },
  "gpuClass": "standard",
  "kernelspec": {
   "display_name": "Python 3 (ipykernel)",
   "language": "python",
   "name": "python3"
  },
  "language_info": {
   "codemirror_mode": {
    "name": "ipython",
    "version": 3
   },
   "file_extension": ".py",
   "mimetype": "text/x-python",
   "name": "python",
   "nbconvert_exporter": "python",
   "pygments_lexer": "ipython3",
   "version": "3.9.13"
  }
 },
 "nbformat": 4,
 "nbformat_minor": 1
}
